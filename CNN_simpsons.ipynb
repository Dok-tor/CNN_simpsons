{
 "cells": [
  {
   "cell_type": "code",
   "execution_count": 4,
   "id": "e66054c7",
   "metadata": {
    "executionInfo": {
     "elapsed": 6064,
     "status": "ok",
     "timestamp": 1683203869104,
     "user": {
      "displayName": "Семенников Макар",
      "userId": "05697875105098319337"
     },
     "user_tz": -180
    },
    "id": "e66054c7"
   },
   "outputs": [],
   "source": [
    "import pandas as pd\n",
    "import numpy as np\n",
    "import matplotlib as plt\n",
    "import matplotlib.pyplot as plt\n",
    "import torch\n",
    "import pathlib"
   ]
  },
  {
   "cell_type": "code",
   "execution_count": 5,
   "id": "6ec46cfb",
   "metadata": {
    "executionInfo": {
     "elapsed": 295,
     "status": "ok",
     "timestamp": 1683203869381,
     "user": {
      "displayName": "Семенников Макар",
      "userId": "05697875105098319337"
     },
     "user_tz": -180
    },
    "id": "6ec46cfb"
   },
   "outputs": [],
   "source": [
    "BATCH_SIZE = 16"
   ]
  },
  {
   "cell_type": "code",
   "execution_count": 6,
   "id": "7995cb8c",
   "metadata": {
    "colab": {
     "base_uri": "https://localhost:8080/"
    },
    "executionInfo": {
     "elapsed": 5,
     "status": "ok",
     "timestamp": 1683203869382,
     "user": {
      "displayName": "Семенников Макар",
      "userId": "05697875105098319337"
     },
     "user_tz": -180
    },
    "id": "7995cb8c",
    "outputId": "f582f81e-9ec6-434f-b694-85b491433bc3"
   },
   "outputs": [
    {
     "name": "stdout",
     "output_type": "stream",
     "text": [
      "True, training on CUDA\n"
     ]
    }
   ],
   "source": [
    "state = torch.cuda.is_available()\n",
    "if state:\n",
    "    print(str(state) + \", training on CUDA\")\n",
    "    device = torch.device(\"cuda\")\n",
    "else:\n",
    "    print(str(state) + \", traning on cpu\")\n",
    "    device = torch.device(\"cpu\")"
   ]
  },
  {
   "cell_type": "markdown",
   "id": "c8e3856a",
   "metadata": {
    "id": "c8e3856a"
   },
   "source": [
    "## Изучение содержимого датасета"
   ]
  },
  {
   "cell_type": "code",
   "execution_count": 7,
   "id": "3208f0ee",
   "metadata": {
    "colab": {
     "base_uri": "https://localhost:8080/"
    },
    "executionInfo": {
     "elapsed": 7,
     "status": "ok",
     "timestamp": 1683203873190,
     "user": {
      "displayName": "Семенников Макар",
      "userId": "05697875105098319337"
     },
     "user_tz": -180
    },
    "id": "3208f0ee",
    "outputId": "1df40d95-6212-46fa-defa-ac4b3a2b5175"
   },
   "outputs": [
    {
     "name": "stdout",
     "output_type": "stream",
     "text": [
      "['abraham_grampa_simpson', 'agnes_skinner', 'apu_nahasapeemapetilon', 'barney_gumble', 'bart_simpson', 'carl_carlson', 'charles_montgomery_burns', 'chief_wiggum', 'cletus_spuckler', 'comic_book_guy', 'disco_stu', 'edna_krabappel', 'fat_tony', 'gil', 'groundskeeper_willie', 'homer_simpson', 'kent_brockman', 'krusty_the_clown', 'lenny_leonard', 'lionel_hutz', 'lisa_simpson', 'maggie_simpson', 'marge_simpson', 'martin_prince', 'mayor_quimby', 'milhouse_van_houten', 'miss_hoover', 'moe_szyslak', 'ned_flanders', 'nelson_muntz', 'otto_mann', 'patty_bouvier', 'principal_skinner', 'professor_john_frink', 'rainier_wolfcastle', 'ralph_wiggum', 'selma_bouvier', 'sideshow_bob', 'sideshow_mel', 'snake_jailbird', 'troy_mcclure', 'waylon_smithers']\n"
     ]
    }
   ],
   "source": [
    "TRAIN_PATH = pathlib.Path(\"journey-springfield/train/simpsons_dataset/\") # проиписываем путь до директории\n",
    "train_paths = list(sorted(TRAIN_PATH.glob(\"*/*.jpg\")))  # создаем список всех картинок (в каждом дочернем подкаталоге)\n",
    "train_labels = np.unique([x.parent.name for x in train_paths]).tolist()  # получаем названия родительской папки для каждого элемента и взятие уникальных\n",
    "print(train_labels)"
   ]
  },
  {
   "cell_type": "code",
   "execution_count": 8,
   "id": "2f1bc798",
   "metadata": {
    "executionInfo": {
     "elapsed": 5,
     "status": "ok",
     "timestamp": 1683203873191,
     "user": {
      "displayName": "Семенников Макар",
      "userId": "05697875105098319337"
     },
     "user_tz": -180
    },
    "id": "2f1bc798"
   },
   "outputs": [],
   "source": [
    "def path_to_dict(targ_dir):\n",
    "    ''' Функция принимает путь до папки датасета в формате path и выводит словарь, в котором ключами являются названия классов\n",
    "        а значениями списки путей до каждого элемента этого класса\n",
    "    '''\n",
    "    \n",
    "    paths = list(sorted(targ_dir.glob(\"*/*.jpg\")))\n",
    "    labels = [x.parent.name for x in paths]\n",
    "    labels_uniq = np.unique(labels).tolist()\n",
    "    dct_path = {}\n",
    "    \n",
    "    for label in labels:\n",
    "        dct_path[label] = []\n",
    "    \n",
    "    for path, label in zip(paths, labels):\n",
    "        dct_path[label].append(path)\n",
    "    return dct_path"
   ]
  },
  {
   "cell_type": "code",
   "execution_count": 9,
   "id": "f747a822",
   "metadata": {
    "colab": {
     "base_uri": "https://localhost:8080/"
    },
    "executionInfo": {
     "elapsed": 302,
     "status": "ok",
     "timestamp": 1683203873488,
     "user": {
      "displayName": "Семенников Макар",
      "userId": "05697875105098319337"
     },
     "user_tz": -180
    },
    "id": "f747a822",
    "outputId": "7ac49ea2-ab80-4218-b1a6-853f4d84caff"
   },
   "outputs": [
    {
     "name": "stdout",
     "output_type": "stream",
     "text": [
      "abraham_grampa_simpson : 913\n",
      "agnes_skinner : 42\n",
      "apu_nahasapeemapetilon : 623\n",
      "barney_gumble : 106\n",
      "bart_simpson : 1342\n",
      "carl_carlson : 98\n",
      "charles_montgomery_burns : 1193\n",
      "chief_wiggum : 986\n",
      "cletus_spuckler : 47\n",
      "comic_book_guy : 469\n",
      "disco_stu : 8\n",
      "edna_krabappel : 457\n",
      "fat_tony : 27\n",
      "gil : 27\n",
      "groundskeeper_willie : 121\n",
      "homer_simpson : 2246\n",
      "kent_brockman : 498\n",
      "krusty_the_clown : 1206\n",
      "lenny_leonard : 310\n",
      "lionel_hutz : 3\n",
      "lisa_simpson : 1354\n",
      "maggie_simpson : 128\n",
      "marge_simpson : 1291\n",
      "martin_prince : 71\n",
      "mayor_quimby : 246\n",
      "milhouse_van_houten : 1079\n",
      "miss_hoover : 17\n",
      "moe_szyslak : 1452\n",
      "ned_flanders : 1454\n",
      "nelson_muntz : 358\n",
      "otto_mann : 32\n",
      "patty_bouvier : 72\n",
      "principal_skinner : 1194\n",
      "professor_john_frink : 65\n",
      "rainier_wolfcastle : 45\n",
      "ralph_wiggum : 89\n",
      "selma_bouvier : 103\n",
      "sideshow_bob : 877\n",
      "sideshow_mel : 40\n",
      "snake_jailbird : 55\n",
      "troy_mcclure : 8\n",
      "waylon_smithers : 181\n"
     ]
    }
   ],
   "source": [
    "dct = path_to_dict(TRAIN_PATH)\n",
    "for label in dct.keys():\n",
    "    print(label,\":\", len(dct[label]))"
   ]
  },
  {
   "cell_type": "code",
   "execution_count": 10,
   "id": "d119073e",
   "metadata": {},
   "outputs": [
    {
     "name": "stdout",
     "output_type": "stream",
     "text": [
      "20933\n"
     ]
    }
   ],
   "source": [
    "sss = 0\n",
    "for item in dct.values():\n",
    "    sss += len(item)\n",
    "print(sss)"
   ]
  },
  {
   "cell_type": "code",
   "execution_count": 11,
   "id": "0013a794",
   "metadata": {
    "colab": {
     "base_uri": "https://localhost:8080/"
    },
    "executionInfo": {
     "elapsed": 11,
     "status": "ok",
     "timestamp": 1683203873490,
     "user": {
      "displayName": "Семенников Макар",
      "userId": "05697875105098319337"
     },
     "user_tz": -180
    },
    "id": "0013a794",
    "outputId": "f7e9e655-64bd-4d55-cf6d-f0567e3f2ec1"
   },
   "outputs": [
    {
     "data": {
      "text/plain": [
       "42"
      ]
     },
     "execution_count": 11,
     "metadata": {},
     "output_type": "execute_result"
    }
   ],
   "source": [
    "len(dct.keys())"
   ]
  },
  {
   "cell_type": "code",
   "execution_count": 12,
   "id": "c8e6e250",
   "metadata": {
    "executionInfo": {
     "elapsed": 564,
     "status": "ok",
     "timestamp": 1683203874049,
     "user": {
      "displayName": "Семенников Макар",
      "userId": "05697875105098319337"
     },
     "user_tz": -180
    },
    "id": "c8e6e250"
   },
   "outputs": [
    {
     "name": "stderr",
     "output_type": "stream",
     "text": [
      "/home/dok/anaconda3/envs/ml_root/lib/python3.10/site-packages/torchvision/io/image.py:13: UserWarning: Failed to load image Python extension: /home/dok/anaconda3/envs/ml_root/lib/python3.10/site-packages/torchvision/image.so: undefined symbol: _ZN5torch3jit17parseSchemaOrNameERKNSt7__cxx1112basic_stringIcSt11char_traitsIcESaIcEEE\n",
      "  warn(f\"Failed to load image Python extension: {e}\")\n"
     ]
    }
   ],
   "source": [
    "from torch.utils.data import Dataset\n",
    "from torchvision import transforms\n",
    "from PIL import Image\n",
    "\n",
    "class CustomDataset(Dataset):\n",
    "    \n",
    "    def __init__(self, list_path, transform):\n",
    "        ''' Если is_str=0 то конструктор принимает и обрабатывает путь до папки с файлами типа PATH\n",
    "            Если is_str=1 то принимается список путей до файлов, метки классов извлекаются из самих путей\n",
    "        '''\n",
    "        self.paths = list_path\n",
    "        self.labels = [x.parent.name for x in self.paths]\n",
    "        self.classes = np.unique(self.labels).tolist()\n",
    "        self.class_to_idx = {cls_name: i for i, cls_name in enumerate(self.classes)}\n",
    "        \n",
    "\n",
    "        self.last_idx = len(self.paths)\n",
    "        self.transform = transform\n",
    "        \n",
    "    def __len__(self):\n",
    "        return len(self.paths)\n",
    "    \n",
    "    def en(self):\n",
    "        return self.class_to_idx\n",
    "    \n",
    "    def load_item(self, index): \n",
    "        ''' открывает картинку по заданному пути\n",
    "        '''\n",
    "        image_path = self.paths[index]\n",
    "        return Image.open(image_path)\n",
    "    \n",
    "    def __getitem__(self, index):\n",
    "        '''возвращает картинку и метку класса к ней'''\n",
    "        \n",
    "        img = self.load_item(index)\n",
    "        \n",
    "        class_name = self.paths[index].parent.name\n",
    "        class_idx = self.class_to_idx[class_name]\n",
    "\n",
    "        return self.transform(img), class_idx"
   ]
  },
  {
   "cell_type": "markdown",
   "id": "8c5c257b",
   "metadata": {
    "id": "8c5c257b"
   },
   "source": [
    "## Загрузка данных"
   ]
  },
  {
   "cell_type": "code",
   "execution_count": 13,
   "id": "a90f6205",
   "metadata": {
    "executionInfo": {
     "elapsed": 271,
     "status": "ok",
     "timestamp": 1683203875118,
     "user": {
      "displayName": "Семенников Макар",
      "userId": "05697875105098319337"
     },
     "user_tz": -180
    },
    "id": "a90f6205"
   },
   "outputs": [],
   "source": [
    "from sklearn.model_selection import train_test_split\n",
    "# Разделяем данные на обучающую и тестовую выборку\n",
    "train_data, val_data = train_test_split(train_paths, train_size=0.75, test_size=0.25, stratify=[x.parent.name for x in train_paths])\n",
    "\n",
    "# f1 = open('train_files.txt', 'r')\n",
    "# train_data = [pathlib.Path(x) for x in f1.readline().split()]\n",
    "# f1.close()\n",
    "\n",
    "\n",
    "# f2 = open('val_files.txt', 'r')\n",
    "# val_data = [pathlib.Path(x) for x in f2.readline().split()]\n",
    "# f2.close()\n",
    "\n",
    "train_transforms = transforms.Compose([\n",
    "    transforms.Resize((300, 300)),\n",
    "    transforms.transforms.ToTensor(),\n",
    "    transforms.Normalize([0.485, 0.456, 0.406], [0.229, 0.224, 0.225])\n",
    "])\n",
    "# Создаем датасет \n",
    "train_dataset = CustomDataset(train_data, train_transforms)\n",
    "val_dataset = CustomDataset(val_data, train_transforms)\n",
    "\n",
    "from torch.utils.data import DataLoader\n",
    "\n",
    "train_dataloader = DataLoader(dataset=train_dataset, batch_size=BATCH_SIZE, shuffle=True)\n",
    "val_dataloader = DataLoader(dataset=val_dataset, batch_size=BATCH_SIZE, shuffle=False)\n",
    "\n",
    "dataloaders = {'train': train_dataloader, 'val': val_dataloader}"
   ]
  },
  {
   "cell_type": "code",
   "execution_count": 14,
   "id": "da82a576",
   "metadata": {},
   "outputs": [
    {
     "data": {
      "text/plain": [
       "20933"
      ]
     },
     "execution_count": 14,
     "metadata": {},
     "output_type": "execute_result"
    }
   ],
   "source": [
    "len(train_data)+len(val_data)"
   ]
  },
  {
   "cell_type": "code",
   "execution_count": 15,
   "id": "b657f819",
   "metadata": {},
   "outputs": [],
   "source": [
    "# f3 = open('val_data_2_for_drop_1.txt', 'w')\n",
    "# for path in val_data:\n",
    "#     f3.write(str(path) + ' ')\n",
    "# f3.close()"
   ]
  },
  {
   "cell_type": "code",
   "execution_count": 16,
   "id": "74b499dc",
   "metadata": {
    "executionInfo": {
     "elapsed": 5,
     "status": "ok",
     "timestamp": 1683203875120,
     "user": {
      "displayName": "Семенников Макар",
      "userId": "05697875105098319337"
     },
     "user_tz": -180
    },
    "id": "74b499dc"
   },
   "outputs": [],
   "source": [
    "import random\n",
    "def display_random_images(dataset: torch.utils.data.dataset.Dataset,\n",
    "                         classes: list[str] = None,\n",
    "                         n: int = 10,\n",
    "                         display_shape: bool = True,\n",
    "                         seed: int = None):\n",
    "    if n > 10:\n",
    "        n = 10\n",
    "        display_shape = False\n",
    "        print(f\"For display purposes, n shouldn't be larger than 10, setting to 10 and removing shape display.\")\n",
    "    \n",
    "    if seed:\n",
    "        random.seed(seed)\n",
    "    \n",
    "    random_samples_idx = random.sample(range(len(dataset)), k=n)\n",
    "    \n",
    "    plt.figure(figsize=(18, 8))\n",
    "    \n",
    "    for i, targ_sample in enumerate(random_samples_idx):\n",
    "        targ_image, targ_label = dataset[targ_sample][0], dataset[targ_sample][1]\n",
    "        targ_image_adjust = targ_image.permute(1, 2, 0)\n",
    "        \n",
    "        plt.subplot(1, n, i+1)\n",
    "        plt.imshow(targ_image_adjust)\n",
    "        plt.axis(\"off\")\n",
    "        if classes:\n",
    "            title = f\"class: {classes[targ_label]}\"\n",
    "            if display_shape:\n",
    "                title = title + f\"\\nshape: {targ_image_adjust.shape}\"\n",
    "            plt.title(title)"
   ]
  },
  {
   "cell_type": "code",
   "execution_count": 18,
   "id": "d1e232df",
   "metadata": {},
   "outputs": [
    {
     "name": "stderr",
     "output_type": "stream",
     "text": [
      "Clipping input data to the valid range for imshow with RGB data ([0..1] for floats or [0..255] for integers).\n",
      "Clipping input data to the valid range for imshow with RGB data ([0..1] for floats or [0..255] for integers).\n",
      "Clipping input data to the valid range for imshow with RGB data ([0..1] for floats or [0..255] for integers).\n",
      "Clipping input data to the valid range for imshow with RGB data ([0..1] for floats or [0..255] for integers).\n",
      "Clipping input data to the valid range for imshow with RGB data ([0..1] for floats or [0..255] for integers).\n"
     ]
    },
    {
     "data": {
      "image/png": "[encoded data removed]",
      "text/plain": [
       "<Figure size 1800x800 with 5 Axes>"
      ]
     },
     "metadata": {},
     "output_type": "display_data"
    }
   ],
   "source": [
    "display_random_images(train_dataset, n=5)"
   ]
  },
  {
   "cell_type": "markdown",
   "id": "7765bf92",
   "metadata": {
    "id": "7765bf92"
   },
   "source": [
    "## Продвинутая загрузка данных"
   ]
  },
  {
   "cell_type": "code",
   "execution_count": 15,
   "id": "5567c98d",
   "metadata": {
    "executionInfo": {
     "elapsed": 4,
     "status": "ok",
     "timestamp": 1683203875120,
     "user": {
      "displayName": "Семенников Макар",
      "userId": "05697875105098319337"
     },
     "user_tz": -180
    },
    "id": "5567c98d"
   },
   "outputs": [],
   "source": [
    "def list_to_dict(paths):\n",
    "    ''' Функция принимает список путей до файлов и выводит словарь, в котором ключами являются названия классов\n",
    "        а значениями списки путей до каждого элемента этого класса\n",
    "    '''\n",
    "    \n",
    "    labels = [x.parent.name for x in paths]\n",
    "    labels_uniq = np.unique(labels).tolist()\n",
    "    dct_path = {}\n",
    "    \n",
    "    for label in labels:\n",
    "        dct_path[label] = []\n",
    "    \n",
    "    for path, label in zip(paths, labels):\n",
    "        dct_path[label].append(path)\n",
    "    return dct_path"
   ]
  },
  {
   "cell_type": "code",
   "execution_count": 16,
   "id": "636498f8",
   "metadata": {
    "executionInfo": {
     "elapsed": 4,
     "status": "ok",
     "timestamp": 1683203875518,
     "user": {
      "displayName": "Семенников Макар",
      "userId": "05697875105098319337"
     },
     "user_tz": -180
    },
    "id": "636498f8"
   },
   "outputs": [],
   "source": [
    "train_path_dct = list_to_dict(train_data)\n",
    "for key in train_path_dct.keys():\n",
    "    # доводим количество экземпляров каждого класса до 800, оказалось плохой идеей\n",
    "    while len(train_path_dct[key]) < 800: \n",
    "        train_path_dct[key] = train_path_dct[key] + train_path_dct[key]\n",
    "\n",
    "\n",
    "new_train_data = list(sorted(train_path_dct.values()))\n",
    "\n",
    "raw_data = []\n",
    "for arr in new_train_data:\n",
    "    raw_data += arr"
   ]
  },
  {
   "cell_type": "code",
   "execution_count": 17,
   "id": "a6ff25b8",
   "metadata": {
    "executionInfo": {
     "elapsed": 480,
     "status": "ok",
     "timestamp": 1683203875995,
     "user": {
      "displayName": "Семенников Макар",
      "userId": "05697875105098319337"
     },
     "user_tz": -180
    },
    "id": "a6ff25b8"
   },
   "outputs": [],
   "source": [
    "new_train_dataset = CustomDataset(raw_data, train_transforms)\n",
    "new_train_dataloader = DataLoader(dataset=new_train_dataset, batch_size=BATCH_SIZE)\n",
    "new_dataloaders = {'train': new_train_dataloader, 'val': val_dataloader}"
   ]
  },
  {
   "cell_type": "markdown",
   "id": "1f86d5ed",
   "metadata": {
    "id": "1f86d5ed"
   },
   "source": [
    "## Расширение данных за счёт аугментаций"
   ]
  },
  {
   "cell_type": "code",
   "execution_count": 18,
   "id": "98c3903d",
   "metadata": {
    "executionInfo": {
     "elapsed": 7,
     "status": "ok",
     "timestamp": 1683203875996,
     "user": {
      "displayName": "Семенников Макар",
      "userId": "05697875105098319337"
     },
     "user_tz": -180
    },
    "id": "98c3903d"
   },
   "outputs": [],
   "source": [
    "new_dct = {}\n",
    "dct_for_aug = {}\n",
    "train_path_dct_2 = list_to_dict(train_data)\n",
    "for key in train_path_dct_2.keys():\n",
    "    arr = train_path_dct_2[key]\n",
    "    arr.sort()\n",
    "\n",
    "    while len(arr) < 101:\n",
    "        for i in range(len(arr)):\n",
    "            arr.append(arr[i])\n",
    "            if len(arr) >= 101:\n",
    "                break\n",
    "    new_dct[key] = train_path_dct_2[key][:100]\n",
    "    dct_for_aug[key] = train_path_dct_2[key][101:]\n"
   ]
  },
  {
   "cell_type": "code",
   "execution_count": 19,
   "id": "427172c9",
   "metadata": {
    "executionInfo": {
     "elapsed": 5,
     "status": "ok",
     "timestamp": 1683203875996,
     "user": {
      "displayName": "Семенников Макар",
      "userId": "05697875105098319337"
     },
     "user_tz": -180
    },
    "id": "427172c9"
   },
   "outputs": [],
   "source": [
    "max_len = max([len(x) for x in dct_for_aug.values()])\n",
    "\n",
    "dct_for_transform = {}\n",
    "\n",
    "for key in dct_for_aug.keys():\n",
    "    arr = dct_for_aug[key]\n",
    "    dct_for_transform[key] = arr[:]\n",
    "    arr = dct_for_transform[key]\n",
    "    while len(arr) < max_len:\n",
    "        for i in range(100):\n",
    "            arr.append(new_dct[key][i])\n",
    "            if len(arr) >= max_len:\n",
    "                break\n",
    "# for key in dct_for_transform:\n",
    "#     print(key, len(dct_for_transform[key]))\n"
   ]
  },
  {
   "cell_type": "code",
   "execution_count": 20,
   "id": "55488e0f",
   "metadata": {
    "colab": {
     "base_uri": "https://localhost:8080/"
    },
    "executionInfo": {
     "elapsed": 3,
     "status": "ok",
     "timestamp": 1683203876451,
     "user": {
      "displayName": "Семенников Макар",
      "userId": "05697875105098319337"
     },
     "user_tz": -180
    },
    "id": "55488e0f",
    "outputId": "bdec4646-fe53-4ae9-aa15-a56a36e913f3"
   },
   "outputs": [
    {
     "name": "stdout",
     "output_type": "stream",
     "text": [
      "4200\n",
      "12674\n",
      "53812\n"
     ]
    }
   ],
   "source": [
    "main_train_list = []\n",
    "addition_train_list = []\n",
    "for_transform_train_list = []\n",
    "\n",
    "for key in new_dct.keys():\n",
    "    main_train_list += new_dct[key]\n",
    "    addition_train_list += dct_for_aug[key]\n",
    "    for_transform_train_list += dct_for_transform[key][len(dct_for_aug[key]):]\n",
    "print(len(main_train_list))\n",
    "print(len(addition_train_list))\n",
    "print(len(for_transform_train_list))"
   ]
  },
  {
   "cell_type": "code",
   "execution_count": 21,
   "id": "7f30c0a2",
   "metadata": {
    "executionInfo": {
     "elapsed": 3,
     "status": "ok",
     "timestamp": 1683203876452,
     "user": {
      "displayName": "Семенников Макар",
      "userId": "05697875105098319337"
     },
     "user_tz": -180
    },
    "id": "7f30c0a2"
   },
   "outputs": [],
   "source": [
    "main_train_dataset = CustomDataset(main_train_list, train_transforms)\n",
    "main_train_dataloader = DataLoader(dataset=main_train_dataset, batch_size=BATCH_SIZE)\n",
    "\n",
    "addition_train_dataset = CustomDataset(addition_train_list, train_transforms)\n",
    "addition_train_dataloader = DataLoader(dataset=addition_train_dataset, batch_size=BATCH_SIZE)\n",
    "\n",
    "train_transforms_for_aug = transforms.Compose([\n",
    "    transforms.Resize((300, 300)),\n",
    "    transforms.RandAugment(),\n",
    "    transforms.transforms.ToTensor(),\n",
    "    transforms.Normalize([0.485, 0.456, 0.406], [0.229, 0.224, 0.225])\n",
    "])\n",
    "\n",
    "transformed_train_dataset = CustomDataset(for_transform_train_list, train_transforms_for_aug)\n",
    "transformed_train_dataloader = DataLoader(dataset=transformed_train_dataset, batch_size=BATCH_SIZE)\n",
    "\n",
    "\n",
    "main_dataloaders = {'train': main_train_dataloader, 'val': val_dataloader}\n",
    "addition_dataloaders = {'train': addition_train_dataloader, 'val': val_dataloader}\n",
    "transformed_dataloaders = {'train': transformed_train_dataloader, 'val': val_dataloader}\n"
   ]
  },
  {
   "cell_type": "code",
   "execution_count": 22,
   "id": "a693c7a4",
   "metadata": {
    "colab": {
     "base_uri": "https://localhost:8080/"
    },
    "executionInfo": {
     "elapsed": 1387,
     "status": "ok",
     "timestamp": 1683203878156,
     "user": {
      "displayName": "Семенников Макар",
      "userId": "05697875105098319337"
     },
     "user_tz": -180
    },
    "id": "a693c7a4",
    "outputId": "a1a46107-01b7-40e1-fdf0-3f7e474e3f50"
   },
   "outputs": [
    {
     "name": "stdout",
     "output_type": "stream",
     "text": [
      "torch.Size([16, 3, 300, 300]) torch.Size([16])\n"
     ]
    }
   ],
   "source": [
    "t = 0\n",
    "for X, y in transformed_train_dataloader:\n",
    "    t = 1\n",
    "    print(X.shape, y.shape)\n",
    "    if t == 1: break"
   ]
  },
  {
   "cell_type": "code",
   "execution_count": 23,
   "id": "65440078",
   "metadata": {
    "colab": {
     "base_uri": "https://localhost:8080/",
     "height": 524
    },
    "executionInfo": {
     "elapsed": 1435,
     "status": "ok",
     "timestamp": 1683203879588,
     "user": {
      "displayName": "Семенников Макар",
      "userId": "05697875105098319337"
     },
     "user_tz": -180
    },
    "id": "65440078",
    "outputId": "5e421373-8460-43d4-f777-3a1134c7ad2a"
   },
   "outputs": [
    {
     "name": "stderr",
     "output_type": "stream",
     "text": [
      "Clipping input data to the valid range for imshow with RGB data ([0..1] for floats or [0..255] for integers).\n"
     ]
    },
    {
     "name": "stdout",
     "output_type": "stream",
     "text": [
      "Features shape of the current batch is torch.Size([16, 3, 300, 300])\n",
      "Labels shape of the current batch shape is torch.Size([16])\n"
     ]
    },
    {
     "data": {
      "image/png": "[encoded data removed]",
      "text/plain": [
       "<Figure size 640x480 with 1 Axes>"
      ]
     },
     "metadata": {},
     "output_type": "display_data"
    },
    {
     "name": "stdout",
     "output_type": "stream",
     "text": [
      "Label: 4\n"
     ]
    }
   ],
   "source": [
    "train_features, train_labels = next(iter(transformed_train_dataloader))\n",
    "\n",
    "print(f\"Features shape of the current batch is {train_features.size()}\")\n",
    "print(f\"Labels shape of the current batch shape is {train_labels.size()}\")\n",
    "\n",
    "img = train_features[2].squeeze()\n",
    "label = train_labels[2]\n",
    "plt.imshow(img.permute(1, 2, 0), cmap=\"gray\")\n",
    "plt.show()\n",
    "print(f\"Label: {label}\")"
   ]
  },
  {
   "cell_type": "markdown",
   "id": "285f1637",
   "metadata": {
    "id": "285f1637"
   },
   "source": [
    "## Получение отраженного датасета"
   ]
  },
  {
   "cell_type": "code",
   "execution_count": 24,
   "id": "2fce762b",
   "metadata": {
    "executionInfo": {
     "elapsed": 6,
     "status": "ok",
     "timestamp": 1683203879589,
     "user": {
      "displayName": "Семенников Макар",
      "userId": "05697875105098319337"
     },
     "user_tz": -180
    },
    "id": "2fce762b"
   },
   "outputs": [],
   "source": [
    "adv_train_path_dct = list_to_dict(train_data) # Создание словаря по классам из уже разделённой обучающей выборки\n",
    "for key in train_path_dct.keys():\n",
    "    while len(train_path_dct[key]) < 100:  # Дополнение классов, количество экземпляров в которых < 100 \n",
    "        train_path_dct[key] = train_path_dct[key] + train_path_dct[key]\n",
    "\n",
    "adv_train_data = []\n",
    "for arr in list(sorted(adv_train_path_dct.values())):\n",
    "    adv_train_data += arr\n",
    "\n",
    "adv_train_dataset = CustomDataset(adv_train_data, train_transforms) #Получение нового списка путей к файлам тестовой выборки"
   ]
  },
  {
   "cell_type": "code",
   "execution_count": 25,
   "id": "1b6c88e2",
   "metadata": {
    "executionInfo": {
     "elapsed": 545,
     "status": "ok",
     "timestamp": 1683203880129,
     "user": {
      "displayName": "Семенников Макар",
      "userId": "05697875105098319337"
     },
     "user_tz": -180
    },
    "id": "1b6c88e2"
   },
   "outputs": [],
   "source": [
    "# ПО ГОРИЗОНТАЛИ\n",
    "horisontal_flip_transforms = transforms.Compose([\n",
    "    transforms.Resize((300, 300)),\n",
    "    transforms.RandomHorizontalFlip(p=1.0),\n",
    "    transforms.transforms.ToTensor(),\n",
    "    transforms.Normalize([0.485, 0.456, 0.406], [0.229, 0.224, 0.225])\n",
    "])\n",
    "\n",
    "horisontal_flip_dataset = CustomDataset(adv_train_data, horisontal_flip_transforms)\n"
   ]
  },
  {
   "cell_type": "code",
   "execution_count": 26,
   "id": "51949bc2",
   "metadata": {
    "executionInfo": {
     "elapsed": 3,
     "status": "ok",
     "timestamp": 1683203880129,
     "user": {
      "displayName": "Семенников Макар",
      "userId": "05697875105098319337"
     },
     "user_tz": -180
    },
    "id": "51949bc2"
   },
   "outputs": [],
   "source": [
    "# ПО ВЕРТИКАЛИ\n",
    "vertical_flip_transforms = transforms.Compose([\n",
    "    transforms.Resize((300, 300)),\n",
    "    transforms.RandomVerticalFlip(p=1.0),\n",
    "    transforms.transforms.ToTensor(),\n",
    "    transforms.Normalize([0.485, 0.456, 0.406], [0.229, 0.224, 0.225])\n",
    "])\n",
    "vertical_flip_dataset = CustomDataset(adv_train_data, vertical_flip_transforms)"
   ]
  },
  {
   "cell_type": "code",
   "execution_count": 27,
   "id": "df47d0cc",
   "metadata": {
    "executionInfo": {
     "elapsed": 3,
     "status": "ok",
     "timestamp": 1683203880130,
     "user": {
      "displayName": "Семенников Макар",
      "userId": "05697875105098319337"
     },
     "user_tz": -180
    },
    "id": "df47d0cc"
   },
   "outputs": [],
   "source": [
    "# Объединение 2-х датасетов в 1\n",
    "union_dataset = torch.utils.data.ConcatDataset([adv_train_dataset, horisontal_flip_dataset, vertical_flip_dataset])\n",
    "\n",
    "union_dataloader = DataLoader(dataset=union_dataset, batch_size=BATCH_SIZE, shuffle=True)\n",
    "union_dataloaders = {'train': union_dataloader, 'val': val_dataloader}"
   ]
  },
  {
   "cell_type": "markdown",
   "id": "5edc53a0",
   "metadata": {},
   "source": [
    "## Отражение только по горизонтали"
   ]
  },
  {
   "cell_type": "code",
   "execution_count": 28,
   "id": "4c0fb9cd",
   "metadata": {},
   "outputs": [],
   "source": [
    "adv_train_dataset_2 = CustomDataset(adv_train_data, train_transforms)\n",
    "horisontal_flip_dataset_2 = CustomDataset(adv_train_data, horisontal_flip_transforms)\n",
    "union_dataset_2 = torch.utils.data.ConcatDataset([adv_train_dataset_2, horisontal_flip_dataset_2])\n",
    "union_dataloader_2 = DataLoader(dataset=union_dataset_2, batch_size=BATCH_SIZE, shuffle=True)\n",
    "union_dataloaders_2 = {'train': union_dataloader_2, 'val': val_dataloader}"
   ]
  },
  {
   "cell_type": "markdown",
   "id": "379a220e",
   "metadata": {
    "id": "379a220e"
   },
   "source": [
    "## Построение нейросети"
   ]
  },
  {
   "cell_type": "code",
   "execution_count": 124,
   "id": "a3be53fd",
   "metadata": {
    "executionInfo": {
     "elapsed": 2,
     "status": "ok",
     "timestamp": 1683203883532,
     "user": {
      "displayName": "Семенников Макар",
      "userId": "05697875105098319337"
     },
     "user_tz": -180
    },
    "id": "a3be53fd"
   },
   "outputs": [],
   "source": [
    "from torch import nn"
   ]
  },
  {
   "cell_type": "code",
   "execution_count": 125,
   "id": "e0a5a51e",
   "metadata": {
    "executionInfo": {
     "elapsed": 3,
     "status": "ok",
     "timestamp": 1683203883533,
     "user": {
      "displayName": "Семенников Макар",
      "userId": "05697875105098319337"
     },
     "user_tz": -180
    },
    "id": "e0a5a51e"
   },
   "outputs": [],
   "source": [
    "class MyNN(nn.Module):\n",
    "    def __init__(self, input_shape, out_shape):\n",
    "        super().__init__()\n",
    "        self.conv1 = nn.Sequential(\n",
    "            nn.Conv2d(input_shape, 64,\n",
    "                     kernel_size=(11, 11),\n",
    "                     stride=(4, 4),\n",
    "                     padding=(2, 2)),\n",
    "            nn.ReLU(),\n",
    "            nn.MaxPool2d(kernel_size=3, stride=2, padding=0, dilation=1, ceil_mode=False),\n",
    "            \n",
    "            nn.Conv2d(64, 192, kernel_size=(5, 5), stride=(1, 1), padding=(2, 2)),\n",
    "            nn.ReLU(),\n",
    "            nn.MaxPool2d(kernel_size=3, stride=2, padding=0, dilation=1, ceil_mode=False),\n",
    "            \n",
    "            nn.Conv2d(192, 384, kernel_size=(3, 3), stride=(1, 1), padding=(1, 1)),\n",
    "            nn.ReLU(),\n",
    "            \n",
    "            nn.Conv2d(384, 256, kernel_size=(3, 3), stride=(1, 1), padding=(1, 1)),\n",
    "            nn.ReLU(),\n",
    "            \n",
    "            nn.Conv2d(256, 256, kernel_size=(3, 3), stride=(1, 1), padding=(1, 1)),\n",
    "            nn.ReLU(),\n",
    "            nn.MaxPool2d(kernel_size=3, stride=2, padding=0, dilation=1, ceil_mode=False)\n",
    "        )\n",
    "        \n",
    "        self.classifier = nn.Sequential(\n",
    "            nn.Flatten(),\n",
    "            nn.Linear(in_features=16384, out_features=200, bias=True),\n",
    "            nn.ReLU(),\n",
    "            nn.Linear(in_features=200, out_features=200, bias=True),\n",
    "            nn.ReLU(),\n",
    "            nn.Linear(in_features=200, out_features=out_shape, bias=True)\n",
    "        )\n",
    "\n",
    "        \n",
    "    def forward(self, x):\n",
    "        x = self.conv1(x)\n",
    "        x = self.classifier(x)\n",
    "\n",
    "        return x"
   ]
  },
  {
   "cell_type": "code",
   "execution_count": 126,
   "id": "dwhbczSijCJo",
   "metadata": {
    "executionInfo": {
     "elapsed": 1,
     "status": "ok",
     "timestamp": 1683203883785,
     "user": {
      "displayName": "Семенников Макар",
      "userId": "05697875105098319337"
     },
     "user_tz": -180
    },
    "id": "dwhbczSijCJo"
   },
   "outputs": [],
   "source": [
    "class MyNN_3_less(nn.Module):\n",
    "    def __init__(self, input_shape, out_shape):\n",
    "        super().__init__()\n",
    "        self.conv1 = nn.Sequential(\n",
    "            nn.Conv2d(input_shape, 64,\n",
    "                     kernel_size=(11, 11),\n",
    "                     stride=(4, 4),\n",
    "                     padding=(2, 2)),\n",
    "            nn.ReLU(),\n",
    "            nn.MaxPool2d(kernel_size=3, stride=2, padding=0, dilation=1, ceil_mode=False),\n",
    "            \n",
    "            nn.Conv2d(64, 192, kernel_size=(5, 5), stride=(1, 1), padding=(2, 2)),\n",
    "            nn.ReLU(),\n",
    "            nn.MaxPool2d(kernel_size=3, stride=2, padding=0, dilation=1, ceil_mode=False),\n",
    "            \n",
    "            nn.Conv2d(192, 384, kernel_size=(3, 3), stride=(1, 1), padding=(1, 1)),\n",
    "            nn.ReLU(),\n",
    "            \n",
    "            nn.Conv2d(384, 256, kernel_size=(3, 3), stride=(1, 1), padding=(1, 1)),\n",
    "            nn.ReLU(),\n",
    "            \n",
    "            nn.Conv2d(256, 256, kernel_size=(3, 3), stride=(1, 1), padding=(1, 1)),\n",
    "            nn.ReLU(),\n",
    "            nn.MaxPool2d(kernel_size=3, stride=2, padding=0, dilation=1, ceil_mode=False)\n",
    "        )\n",
    "        \n",
    "        self.classifier = nn.Sequential(\n",
    "            nn.Flatten(),\n",
    "            nn.Linear(in_features=16384, out_features=200, bias=True),\n",
    "            nn.ReLU(),\n",
    "            # nn.Linear(in_features=200, out_features=200, bias=True),\n",
    "            # nn.ReLU(),\n",
    "            nn.Linear(in_features=200, out_features=out_shape, bias=True)\n",
    "        )\n",
    "\n",
    "        \n",
    "    def forward(self, x):\n",
    "        x = self.conv1(x)\n",
    "        x = self.classifier(x)\n",
    "\n",
    "        return x"
   ]
  },
  {
   "cell_type": "code",
   "execution_count": 127,
   "id": "d8592cac",
   "metadata": {
    "colab": {
     "base_uri": "https://localhost:8080/",
     "height": 357
    },
    "executionInfo": {
     "elapsed": 608,
     "status": "error",
     "timestamp": 1683203885205,
     "user": {
      "displayName": "Семенников Макар",
      "userId": "05697875105098319337"
     },
     "user_tz": -180
    },
    "id": "d8592cac",
    "outputId": "f8dbcf7e-f352-4f4c-f931-d545c5c7abcc"
   },
   "outputs": [],
   "source": [
    "# from torchinfo import summary\n",
    "# summary(model_1, input_size=[1,  3, 300, 300])"
   ]
  },
  {
   "cell_type": "code",
   "execution_count": 128,
   "id": "uzX5ejZq6raN",
   "metadata": {
    "executionInfo": {
     "elapsed": 4,
     "status": "ok",
     "timestamp": 1683203886730,
     "user": {
      "displayName": "Семенников Макар",
      "userId": "05697875105098319337"
     },
     "user_tz": -180
    },
    "id": "uzX5ejZq6raN"
   },
   "outputs": [],
   "source": [
    "class MyNN_mini_conv(nn.Module):\n",
    "    def __init__(self, input_shape, out_shape):\n",
    "        super().__init__()\n",
    "        self.conv1 = nn.Sequential(\n",
    "            nn.Conv2d(input_shape, 64,\n",
    "                     kernel_size=(11, 11),\n",
    "                     stride=(4, 4),\n",
    "                     padding=(2, 2)),\n",
    "            nn.ReLU(),\n",
    "            nn.MaxPool2d(kernel_size=3, stride=2, padding=0, dilation=1, ceil_mode=False),\n",
    "            \n",
    "            nn.Conv2d(64, 192, kernel_size=(5, 5), stride=(1, 1), padding=(2, 2)),\n",
    "            nn.ReLU(),\n",
    "            nn.MaxPool2d(kernel_size=3, stride=2, padding=0, dilation=1, ceil_mode=False),\n",
    "            \n",
    "            nn.Conv2d(192, 256, kernel_size=(3, 3), stride=(1, 1), padding=(1, 1)),\n",
    "            nn.ReLU(),\n",
    "            \n",
    "            # nn.Conv2d(384, 256, kernel_size=(3, 3), stride=(1, 1), padding=(1, 1)),\n",
    "            # nn.ReLU(),\n",
    "            \n",
    "            nn.Conv2d(256, 256, kernel_size=(3, 3), stride=(1, 1), padding=(1, 1)),\n",
    "            nn.ReLU(),\n",
    "            nn.MaxPool2d(kernel_size=3, stride=2, padding=0, dilation=1, ceil_mode=False)\n",
    "        )\n",
    "        \n",
    "        self.classifier = nn.Sequential(\n",
    "            nn.Flatten(),\n",
    "            nn.Linear(in_features=16384, out_features=200, bias=True),\n",
    "            nn.ReLU(),\n",
    "            # nn.Linear(in_features=200, out_features=200, bias=True),\n",
    "            # nn.ReLU(),\n",
    "            nn.Linear(in_features=200, out_features=out_shape, bias=True)\n",
    "        )\n",
    "\n",
    "        \n",
    "    def forward(self, x):\n",
    "        x = self.conv1(x)\n",
    "        x = self.classifier(x)\n",
    "\n",
    "        return x"
   ]
  },
  {
   "cell_type": "code",
   "execution_count": 129,
   "id": "yEJ79RDrafoU",
   "metadata": {
    "executionInfo": {
     "elapsed": 4,
     "status": "ok",
     "timestamp": 1683203888059,
     "user": {
      "displayName": "Семенников Макар",
      "userId": "05697875105098319337"
     },
     "user_tz": -180
    },
    "id": "yEJ79RDrafoU"
   },
   "outputs": [],
   "source": [
    "class MyNN_light(nn.Module):\n",
    "    def __init__(self, input_shape, out_shape):\n",
    "        super().__init__()\n",
    "        self.conv1 = nn.Sequential(\n",
    "            nn.Conv2d(input_shape, 64,\n",
    "                     kernel_size=(11, 11),\n",
    "                     stride=(4, 4),\n",
    "                     padding=(2, 2)),\n",
    "            nn.ReLU(),\n",
    "            nn.MaxPool2d(kernel_size=3, stride=2, padding=0, dilation=1, ceil_mode=False),\n",
    "            \n",
    "            nn.Conv2d(64, 192, kernel_size=(5, 5), stride=(1, 1), padding=(2, 2)),\n",
    "            nn.ReLU(),\n",
    "            nn.MaxPool2d(kernel_size=3, stride=2, padding=0, dilation=1, ceil_mode=False),\n",
    "            \n",
    "            nn.Conv2d(192, 256, kernel_size=(3, 3), stride=(1, 1), padding=(1, 1)),\n",
    "            nn.ReLU(),\n",
    "            \n",
    "            # nn.Conv2d(384, 256, kernel_size=(3, 3), stride=(1, 1), padding=(1, 1)),\n",
    "            # nn.ReLU(),\n",
    "            \n",
    "            # nn.Conv2d(256, 256, kernel_size=(3, 3), stride=(1, 1), padding=(1, 1)),\n",
    "            # nn.ReLU(),\n",
    "            nn.MaxPool2d(kernel_size=3, stride=2, padding=0, dilation=1, ceil_mode=False)\n",
    "        )\n",
    "        \n",
    "        self.classifier = nn.Sequential(\n",
    "            nn.Flatten(),\n",
    "            nn.Linear(in_features=16384, out_features=200, bias=True),\n",
    "            nn.ReLU(),\n",
    "            # nn.Linear(in_features=200, out_features=200, bias=True),\n",
    "            # nn.ReLU(),\n",
    "            nn.Linear(in_features=200, out_features=out_shape, bias=True)\n",
    "        )\n",
    "\n",
    "        \n",
    "    def forward(self, x):\n",
    "        x = self.conv1(x)\n",
    "        x = self.classifier(x)\n",
    "\n",
    "        return x"
   ]
  },
  {
   "cell_type": "code",
   "execution_count": 130,
   "id": "nmkOJ37tCnya",
   "metadata": {
    "executionInfo": {
     "elapsed": 2,
     "status": "ok",
     "timestamp": 1683203888514,
     "user": {
      "displayName": "Семенников Макар",
      "userId": "05697875105098319337"
     },
     "user_tz": -180
    },
    "id": "nmkOJ37tCnya"
   },
   "outputs": [],
   "source": [
    "class MyNN_one_linear(nn.Module):\n",
    "    def __init__(self, input_shape, out_shape):\n",
    "        super().__init__()\n",
    "        self.conv1 = nn.Sequential(\n",
    "            nn.Conv2d(input_shape, 64,\n",
    "                     kernel_size=(11, 11),\n",
    "                     stride=(4, 4),\n",
    "                     padding=(2, 2)),\n",
    "            nn.ReLU(),\n",
    "            nn.MaxPool2d(kernel_size=3, stride=2, padding=0, dilation=1, ceil_mode=False),\n",
    "            \n",
    "            nn.Conv2d(64, 192, kernel_size=(5, 5), stride=(1, 1), padding=(2, 2)),\n",
    "            nn.ReLU(),\n",
    "            nn.MaxPool2d(kernel_size=3, stride=2, padding=0, dilation=1, ceil_mode=False),\n",
    "            \n",
    "            nn.Conv2d(192, 384, kernel_size=(3, 3), stride=(1, 1), padding=(1, 1)),\n",
    "            nn.ReLU(),\n",
    "            \n",
    "            nn.Conv2d(384, 256, kernel_size=(3, 3), stride=(1, 1), padding=(1, 1)),\n",
    "            nn.ReLU(),\n",
    "            \n",
    "            nn.Conv2d(256, 256, kernel_size=(3, 3), stride=(1, 1), padding=(1, 1)),\n",
    "            nn.ReLU(),\n",
    "            nn.MaxPool2d(kernel_size=3, stride=2, padding=0, dilation=1, ceil_mode=False)\n",
    "        )\n",
    "        \n",
    "        self.classifier = nn.Sequential(\n",
    "            nn.Flatten(),\n",
    "            nn.Linear(in_features=16384, out_features=out_shape, bias=True)\n",
    "            # nn.ReLU(),\n",
    "            # # nn.Linear(in_features=200, out_features=200, bias=True),\n",
    "            # # nn.ReLU(),\n",
    "            # nn.Linear(in_features=200, out_features=out_shape, bias=True)\n",
    "        )\n",
    "\n",
    "        \n",
    "    def forward(self, x):\n",
    "        x = self.conv1(x)\n",
    "        x = self.classifier(x)\n",
    "\n",
    "        return x"
   ]
  },
  {
   "cell_type": "code",
   "execution_count": 131,
   "id": "fe6de1ce",
   "metadata": {},
   "outputs": [],
   "source": [
    "class MyNN_elu(nn.Module):\n",
    "    def __init__(self, input_shape, out_shape):\n",
    "        super().__init__()\n",
    "        self.conv1 = nn.Sequential(\n",
    "            nn.Conv2d(input_shape, 64,\n",
    "                     kernel_size=(11, 11),\n",
    "                     stride=(4, 4),\n",
    "                     padding=(2, 2)),\n",
    "            nn.ELU(),\n",
    "            nn.MaxPool2d(kernel_size=3, stride=2, padding=0, dilation=1, ceil_mode=False),\n",
    "            \n",
    "            nn.Conv2d(64, 192, kernel_size=(5, 5), stride=(1, 1), padding=(2, 2)),\n",
    "            nn.ELU(),\n",
    "            nn.MaxPool2d(kernel_size=3, stride=2, padding=0, dilation=1, ceil_mode=False),\n",
    "            \n",
    "            nn.Conv2d(192, 384, kernel_size=(3, 3), stride=(1, 1), padding=(1, 1)),\n",
    "            nn.ELU(),\n",
    "            \n",
    "            nn.Conv2d(384, 256, kernel_size=(3, 3), stride=(1, 1), padding=(1, 1)),\n",
    "            nn.ELU(),\n",
    "            \n",
    "            nn.Conv2d(256, 256, kernel_size=(3, 3), stride=(1, 1), padding=(1, 1)),\n",
    "            nn.ELU(),\n",
    "            nn.MaxPool2d(kernel_size=3, stride=2, padding=0, dilation=1, ceil_mode=False)\n",
    "        )\n",
    "        \n",
    "        self.classifier = nn.Sequential(\n",
    "            nn.Flatten(),\n",
    "            nn.Linear(in_features=16384, out_features=200, bias=True),\n",
    "            nn.ELU(),\n",
    "            # nn.Linear(in_features=200, out_features=200, bias=True),\n",
    "            # nn.ReLU(),\n",
    "            nn.Linear(in_features=200, out_features=out_shape, bias=True)\n",
    "        )\n",
    "\n",
    "        \n",
    "    def forward(self, x):\n",
    "        x = self.conv1(x)\n",
    "        x = self.classifier(x)\n",
    "\n",
    "        return x"
   ]
  },
  {
   "cell_type": "code",
   "execution_count": 132,
   "id": "8a47d62a",
   "metadata": {},
   "outputs": [],
   "source": [
    "class MyNN_stride(nn.Module):\n",
    "    def __init__(self, input_shape, out_shape):\n",
    "        super().__init__()\n",
    "        self.conv1 = nn.Sequential(\n",
    "            nn.Conv2d(input_shape, 64,\n",
    "                     kernel_size=(11, 11),\n",
    "                     stride=(4, 4),\n",
    "                     padding=(2, 2)),\n",
    "            nn.ELU(),\n",
    "            nn.MaxPool2d(kernel_size=3, stride=2, padding=0, dilation=1, ceil_mode=False),\n",
    "            \n",
    "            nn.Conv2d(64, 192, kernel_size=(5, 5), stride=(1, 1), padding=(2, 2)),\n",
    "            nn.ELU(),\n",
    "            nn.MaxPool2d(kernel_size=3, stride=2, padding=0, dilation=1, ceil_mode=False),\n",
    "            \n",
    "#             nn.Conv2d(192, 384, kernel_size=(3, 3), stride=(1, 1), padding=(1, 1)),\n",
    "#             nn.ELU(),\n",
    "            \n",
    "#             nn.Conv2d(384, 256, kernel_size=(3, 3), stride=(1, 1), padding=(1, 1)),\n",
    "#             nn.ELU(),\n",
    "            \n",
    "            nn.Conv2d(192, 256, kernel_size=(3, 3), stride=(1, 1), padding=(1, 1)),\n",
    "            nn.ELU(),\n",
    "            nn.MaxPool2d(kernel_size=3, stride=2, padding=0, dilation=1, ceil_mode=False)\n",
    "        )\n",
    "        \n",
    "        self.classifier = nn.Sequential(\n",
    "            nn.Flatten(),\n",
    "            nn.Linear(in_features=16384, out_features=200, bias=True),\n",
    "            nn.ELU(),\n",
    "            # nn.Linear(in_features=200, out_features=200, bias=True),\n",
    "            # nn.ReLU(),\n",
    "            nn.Linear(in_features=200, out_features=out_shape, bias=True)\n",
    "        )\n",
    "\n",
    "        \n",
    "    def forward(self, x):\n",
    "        x = self.conv1(x)\n",
    "        x = self.classifier(x)\n",
    "\n",
    "        return x"
   ]
  },
  {
   "cell_type": "code",
   "execution_count": 133,
   "id": "6367d61a",
   "metadata": {},
   "outputs": [],
   "source": [
    "class MyNN_plus(nn.Module):\n",
    "    def __init__(self, input_shape, out_shape):\n",
    "        super().__init__()\n",
    "        self.conv1 = nn.Sequential(\n",
    "            nn.Conv2d(input_shape, 64,\n",
    "                     kernel_size=(11, 11),\n",
    "                     stride=(4, 4),\n",
    "                     padding=(2, 2)),\n",
    "            nn.ELU(),\n",
    "            nn.MaxPool2d(kernel_size=3, stride=2, padding=0, dilation=1, ceil_mode=False),\n",
    "            \n",
    "            nn.Conv2d(64, 192, kernel_size=(5, 5), stride=(1, 1), padding=(2, 2)),\n",
    "            nn.ELU(),\n",
    "            nn.MaxPool2d(kernel_size=3, stride=2, padding=0, dilation=1, ceil_mode=False),\n",
    "            \n",
    "            nn.Conv2d(192, 384, kernel_size=(3, 3), stride=(1, 1), padding=(1, 1)),\n",
    "            nn.ELU(),\n",
    "            \n",
    "            nn.Conv2d(384, 256, kernel_size=(3, 3), stride=(1, 1), padding=(1, 1)),\n",
    "            nn.ELU(),\n",
    "            \n",
    "            nn.Conv2d(256, 256, kernel_size=(3, 3), stride=(1, 1), padding=(1, 1)),\n",
    "            nn.ELU(),\n",
    "            nn.MaxPool2d(kernel_size=3, stride=2, padding=0, dilation=1, ceil_mode=False)\n",
    "        )\n",
    "        \n",
    "        self.classifier = nn.Sequential(\n",
    "            nn.Flatten(),\n",
    "            nn.Linear(in_features=16384, out_features=200, bias=True),\n",
    "            nn.ELU(),\n",
    "            nn.Linear(in_features=200, out_features=200, bias=True),\n",
    "            nn.ELU(),\n",
    "            nn.Linear(in_features=200, out_features=200, bias=True),\n",
    "            nn.ELU(),\n",
    "            nn.Linear(in_features=200, out_features=out_shape, bias=True)\n",
    "        )\n",
    "\n",
    "        \n",
    "    def forward(self, x):\n",
    "        x = self.conv1(x)\n",
    "        x = self.classifier(x)\n",
    "\n",
    "        return x"
   ]
  },
  {
   "cell_type": "code",
   "execution_count": 134,
   "id": "153a6631",
   "metadata": {},
   "outputs": [],
   "source": [
    "class MyNN_elu_less_lin(nn.Module):\n",
    "    def __init__(self, input_shape, out_shape):\n",
    "        super().__init__()\n",
    "        self.conv1 = nn.Sequential(\n",
    "            nn.Conv2d(input_shape, 64,\n",
    "                     kernel_size=(11, 11),\n",
    "                     stride=(4, 4),\n",
    "                     padding=(2, 2)),\n",
    "            nn.ELU(),\n",
    "            nn.MaxPool2d(kernel_size=3, stride=2, padding=0, dilation=1, ceil_mode=False),\n",
    "            \n",
    "            nn.Conv2d(64, 192, kernel_size=(5, 5), stride=(1, 1), padding=(2, 2)),\n",
    "            nn.ELU(),\n",
    "            nn.MaxPool2d(kernel_size=3, stride=2, padding=0, dilation=1, ceil_mode=False),\n",
    "            \n",
    "            nn.Conv2d(192, 384, kernel_size=(3, 3), stride=(1, 1), padding=(1, 1)),\n",
    "            nn.ELU(),\n",
    "            \n",
    "            nn.Conv2d(384, 256, kernel_size=(3, 3), stride=(1, 1), padding=(1, 1)),\n",
    "            nn.ELU(),\n",
    "            \n",
    "            nn.Conv2d(256, 256, kernel_size=(3, 3), stride=(1, 1), padding=(1, 1)),\n",
    "            nn.ELU(),\n",
    "            nn.MaxPool2d(kernel_size=3, stride=2, padding=0, dilation=1, ceil_mode=False)\n",
    "        )\n",
    "        \n",
    "        self.classifier = nn.Sequential(\n",
    "            nn.Flatten(),\n",
    "            nn.Linear(in_features=16384, out_features=100, bias=True),\n",
    "            nn.ELU(),\n",
    "            # nn.Linear(in_features=200, out_features=200, bias=True),\n",
    "            # nn.ReLU(),\n",
    "            nn.Linear(in_features=100, out_features=out_shape, bias=True)\n",
    "        )\n",
    "\n",
    "        \n",
    "    def forward(self, x):\n",
    "        x = self.conv1(x)\n",
    "        x = self.classifier(x)\n",
    "\n",
    "        return x"
   ]
  },
  {
   "cell_type": "code",
   "execution_count": 135,
   "id": "ca4d5ab7",
   "metadata": {},
   "outputs": [],
   "source": [
    "class MyNN_elu_less_lin_50(nn.Module):\n",
    "    def __init__(self, input_shape, out_shape):\n",
    "        super().__init__()\n",
    "        self.conv1 = nn.Sequential(\n",
    "            nn.Conv2d(input_shape, 64,\n",
    "                     kernel_size=(11, 11),\n",
    "                     stride=(4, 4),\n",
    "                     padding=(2, 2)),\n",
    "            nn.ELU(),\n",
    "            nn.MaxPool2d(kernel_size=3, stride=2, padding=0, dilation=1, ceil_mode=False),\n",
    "            \n",
    "            nn.Conv2d(64, 192, kernel_size=(5, 5), stride=(1, 1), padding=(2, 2)),\n",
    "            nn.ELU(),\n",
    "            nn.MaxPool2d(kernel_size=3, stride=2, padding=0, dilation=1, ceil_mode=False),\n",
    "            \n",
    "            nn.Conv2d(192, 384, kernel_size=(3, 3), stride=(1, 1), padding=(1, 1)),\n",
    "            nn.ELU(),\n",
    "            \n",
    "            nn.Conv2d(384, 256, kernel_size=(3, 3), stride=(1, 1), padding=(1, 1)),\n",
    "            nn.ELU(),\n",
    "            \n",
    "            nn.Conv2d(256, 256, kernel_size=(3, 3), stride=(1, 1), padding=(1, 1)),\n",
    "            nn.ELU(),\n",
    "            nn.MaxPool2d(kernel_size=3, stride=2, padding=0, dilation=1, ceil_mode=False)\n",
    "        )\n",
    "        \n",
    "        self.classifier = nn.Sequential(\n",
    "            nn.Flatten(),\n",
    "            nn.Linear(in_features=16384, out_features=50, bias=True),\n",
    "            nn.ELU(),\n",
    "            # nn.Linear(in_features=200, out_features=200, bias=True),\n",
    "            # nn.ReLU(),\n",
    "            nn.Linear(in_features=50, out_features=out_shape, bias=True)\n",
    "        )\n",
    "\n",
    "        \n",
    "    def forward(self, x):\n",
    "        x = self.conv1(x)\n",
    "        x = self.classifier(x)\n",
    "\n",
    "        return x"
   ]
  },
  {
   "cell_type": "code",
   "execution_count": 136,
   "id": "a87f0a9e",
   "metadata": {},
   "outputs": [],
   "source": [
    "class MyNN_dropout(nn.Module):\n",
    "    def __init__(self, input_shape, out_shape):\n",
    "        super().__init__()\n",
    "        self.conv1 = nn.Sequential(\n",
    "            nn.Conv2d(input_shape, 64,\n",
    "                     kernel_size=(11, 11),\n",
    "                     stride=(4, 4),\n",
    "                     padding=(2, 2)),\n",
    "            nn.ELU(),\n",
    "            nn.MaxPool2d(kernel_size=3, stride=2, padding=0, dilation=1, ceil_mode=False),\n",
    "            \n",
    "            nn.Conv2d(64, 192, kernel_size=(5, 5), stride=(1, 1), padding=(2, 2)),\n",
    "            nn.ELU(),\n",
    "            nn.MaxPool2d(kernel_size=3, stride=2, padding=0, dilation=1, ceil_mode=False),\n",
    "            \n",
    "            nn.Conv2d(192, 384, kernel_size=(3, 3), stride=(1, 1), padding=(1, 1)),\n",
    "            nn.ELU(),\n",
    "            \n",
    "            nn.Conv2d(384, 256, kernel_size=(3, 3), stride=(1, 1), padding=(1, 1)),\n",
    "            nn.ELU(),\n",
    "            \n",
    "            nn.Conv2d(256, 256, kernel_size=(3, 3), stride=(1, 1), padding=(1, 1)),\n",
    "            nn.ELU(),\n",
    "            nn.MaxPool2d(kernel_size=3, stride=2, padding=0, dilation=1, ceil_mode=False)\n",
    "        )\n",
    "        \n",
    "        self.classifier = nn.Sequential(\n",
    "            nn.Flatten(),\n",
    "            nn.Linear(in_features=16384, out_features=50, bias=True),\n",
    "            nn.Dropout(p=0.2),\n",
    "            nn.ELU(),\n",
    "            # nn.Linear(in_features=200, out_features=200, bias=True),\n",
    "            # nn.ReLU(),\n",
    "            nn.Linear(in_features=50, out_features=out_shape, bias=True)\n",
    "        )\n",
    "\n",
    "        \n",
    "    def forward(self, x):\n",
    "        x = self.conv1(x)\n",
    "        x = self.classifier(x)\n",
    "\n",
    "        return x"
   ]
  },
  {
   "cell_type": "code",
   "execution_count": 137,
   "id": "49d14e75",
   "metadata": {},
   "outputs": [],
   "source": [
    "class MyNN_dropout_2(nn.Module):\n",
    "    def __init__(self, input_shape, out_shape):\n",
    "        super().__init__()\n",
    "        self.conv1 = nn.Sequential(\n",
    "            nn.Conv2d(input_shape, 64,\n",
    "                     kernel_size=(11, 11),\n",
    "                     stride=(4, 4),\n",
    "                     padding=(2, 2)),\n",
    "            nn.ELU(),\n",
    "            nn.MaxPool2d(kernel_size=3, stride=2, padding=0, dilation=1, ceil_mode=False),\n",
    "            \n",
    "            nn.Conv2d(64, 192, kernel_size=(5, 5), stride=(1, 1), padding=(2, 2)),\n",
    "            nn.ELU(),\n",
    "            nn.MaxPool2d(kernel_size=3, stride=2, padding=0, dilation=1, ceil_mode=False),\n",
    "            \n",
    "            nn.Conv2d(192, 384, kernel_size=(3, 3), stride=(1, 1), padding=(1, 1)),\n",
    "            nn.ELU(),\n",
    "            \n",
    "            nn.Conv2d(384, 256, kernel_size=(3, 3), stride=(1, 1), padding=(1, 1)),\n",
    "            nn.ELU(),\n",
    "            \n",
    "            nn.Conv2d(256, 256, kernel_size=(3, 3), stride=(1, 1), padding=(1, 1)),\n",
    "            nn.ELU(),\n",
    "            nn.MaxPool2d(kernel_size=3, stride=2, padding=0, dilation=1, ceil_mode=False)\n",
    "        )\n",
    "        \n",
    "        self.classifier = nn.Sequential(\n",
    "            nn.Flatten(),\n",
    "            nn.Dropout(p=0.2),\n",
    "            nn.Linear(in_features=16384, out_features=50, bias=True),\n",
    "            nn.Dropout(p=0.2),\n",
    "            nn.ELU(),\n",
    "            # nn.Linear(in_features=200, out_features=200, bias=True),\n",
    "            # nn.ReLU(),\n",
    "            nn.Linear(in_features=50, out_features=out_shape, bias=True)\n",
    "        )\n",
    "\n",
    "        \n",
    "    def forward(self, x):\n",
    "        x = self.conv1(x)\n",
    "        x = self.classifier(x)\n",
    "\n",
    "        return x"
   ]
  },
  {
   "cell_type": "code",
   "execution_count": 138,
   "id": "bb3cbde4",
   "metadata": {},
   "outputs": [],
   "source": [
    "class MyNN_192_conv(nn.Module):\n",
    "    def __init__(self, input_shape, out_shape):\n",
    "        super().__init__()\n",
    "        self.conv1 = nn.Sequential(\n",
    "            nn.Conv2d(input_shape, 64,\n",
    "                     kernel_size=(11, 11),\n",
    "                     stride=(4, 4),\n",
    "                     padding=(2, 2)),\n",
    "            nn.ELU(),\n",
    "            nn.MaxPool2d(kernel_size=3, stride=2, padding=0, dilation=1, ceil_mode=False),\n",
    "            \n",
    "            nn.Conv2d(64, 192, kernel_size=(5, 5), stride=(1, 1), padding=(2, 2)),\n",
    "            nn.ELU(),\n",
    "            nn.MaxPool2d(kernel_size=3, stride=2, padding=0, dilation=1, ceil_mode=False),\n",
    "            \n",
    "            nn.Conv2d(192, 192, kernel_size=(3, 3), stride=(1, 1), padding=(1, 1)),\n",
    "            nn.ELU(),\n",
    "            \n",
    "            nn.Conv2d(192, 192, kernel_size=(3, 3), stride=(1, 1), padding=(1, 1)),\n",
    "            nn.ELU(),\n",
    "            \n",
    "            nn.Conv2d(192, 192, kernel_size=(3, 3), stride=(1, 1), padding=(1, 1)),\n",
    "            nn.ELU(),\n",
    "            nn.MaxPool2d(kernel_size=3, stride=2, padding=0, dilation=1, ceil_mode=False)\n",
    "        )\n",
    "        \n",
    "        self.classifier = nn.Sequential(\n",
    "            nn.Flatten(),\n",
    "            nn.Dropout(p=0.2),\n",
    "            nn.Linear(in_features=12288, out_features=50, bias=True),\n",
    "            nn.Dropout(p=0.2),\n",
    "            nn.ELU(),\n",
    "            # nn.Linear(in_features=200, out_features=200, bias=True),\n",
    "            # nn.ReLU(),\n",
    "            nn.Linear(in_features=50, out_features=out_shape, bias=True)\n",
    "        )\n",
    "\n",
    "        \n",
    "    def forward(self, x):\n",
    "        x = self.conv1(x)\n",
    "        x = self.classifier(x)\n",
    "\n",
    "        return x"
   ]
  },
  {
   "cell_type": "code",
   "execution_count": 139,
   "id": "ed4d7ae2",
   "metadata": {},
   "outputs": [],
   "source": [
    "class MyNN_inplace(nn.Module):\n",
    "    def __init__(self, input_shape, out_shape):\n",
    "        super().__init__()\n",
    "        self.conv1 = nn.Sequential(\n",
    "            nn.Conv2d(input_shape, 64,\n",
    "                     kernel_size=(3, 3),\n",
    "                     stride=(1, 1),\n",
    "                     padding=(1, 1)),\n",
    "            nn.ELU(inplace=True),\n",
    "            nn.MaxPool2d(kernel_size=3, stride=2, padding=0, dilation=1, ceil_mode=False),\n",
    "            \n",
    "            nn.Conv2d(64, 192, kernel_size=(3, 3), stride=(1, 1), padding=(1, 1)),\n",
    "            nn.ELU(inplace=True),\n",
    "            nn.MaxPool2d(kernel_size=3, stride=2, padding=0, dilation=1, ceil_mode=False),\n",
    "            \n",
    "            nn.Conv2d(192, 192, kernel_size=(3, 3), stride=(1, 1), padding=(1, 1)),\n",
    "            nn.ELU(inplace=True),\n",
    "            \n",
    "            nn.Conv2d(192, 192, kernel_size=(3, 3), stride=(1, 1), padding=(1, 1)),\n",
    "            nn.ELU(inplace=True),\n",
    "            \n",
    "            nn.Conv2d(192, 192, kernel_size=(3, 3), stride=(1, 1), padding=(1, 1)),\n",
    "            nn.ELU(inplace=True),\n",
    "            nn.MaxPool2d(kernel_size=3, stride=2, padding=0, dilation=1, ceil_mode=False)\n",
    "        )\n",
    "        \n",
    "        self.classifier = nn.Sequential(\n",
    "            nn.Flatten(),\n",
    "            nn.Dropout(p=0.2),\n",
    "            nn.Linear(in_features=248832, out_features=50, bias=True),\n",
    "            nn.Dropout(p=0.2),\n",
    "            nn.ELU(inplace=True),\n",
    "            # nn.Linear(in_features=200, out_features=200, bias=True),\n",
    "            # nn.ReLU(),\n",
    "            nn.Linear(in_features=50, out_features=out_shape, bias=True)\n",
    "        )\n",
    "\n",
    "        \n",
    "    def forward(self, x):\n",
    "        x = self.conv1(x)\n",
    "        x = self.classifier(x)\n",
    "\n",
    "        return x"
   ]
  },
  {
   "cell_type": "code",
   "execution_count": 140,
   "id": "a2165b27",
   "metadata": {},
   "outputs": [],
   "source": [
    "class MyNN_5x5k(nn.Module):\n",
    "    def __init__(self, input_shape, out_shape):\n",
    "        super().__init__()\n",
    "        self.conv1 = nn.Sequential(\n",
    "            nn.Conv2d(input_shape, 64,\n",
    "                     kernel_size=(11, 11),\n",
    "                     stride=(4, 4),\n",
    "                     padding=(2, 2)),\n",
    "            nn.ELU(inplace=True),\n",
    "            nn.MaxPool2d(kernel_size=3, stride=2, padding=0, dilation=1, ceil_mode=False),\n",
    "            \n",
    "            nn.Conv2d(64, 192, kernel_size=(5, 5), stride=(1, 1), padding=(2, 2)),\n",
    "            nn.ELU(inplace=True),\n",
    "            nn.MaxPool2d(kernel_size=3, stride=2, padding=0, dilation=1, ceil_mode=False),\n",
    "            \n",
    "            nn.Conv2d(192, 192, kernel_size=(5, 5), stride=(1, 1), padding=(1, 1)),\n",
    "            nn.ELU(inplace=True),\n",
    "            \n",
    "            nn.Conv2d(192, 192, kernel_size=(5, 5), stride=(1, 1), padding=(1, 1)),\n",
    "            nn.ELU(inplace=True),\n",
    "            \n",
    "            nn.Conv2d(192, 192, kernel_size=(5, 5), stride=(1, 1), padding=(1, 1)),\n",
    "            nn.ELU(inplace=True),\n",
    "            nn.MaxPool2d(kernel_size=3, stride=2, padding=0, dilation=1, ceil_mode=False)\n",
    "        )\n",
    "        \n",
    "        self.classifier = nn.Sequential(\n",
    "            nn.Flatten(),\n",
    "            nn.Dropout(p=0.2),\n",
    "            nn.Linear(in_features=4800, out_features=100, bias=True),\n",
    "            nn.Dropout(p=0.2),\n",
    "            nn.ELU(inplace=True),\n",
    "            # nn.Linear(in_features=200, out_features=200, bias=True),\n",
    "            # nn.ReLU(),\n",
    "            nn.Linear(in_features=100, out_features=out_shape, bias=True)\n",
    "        )\n",
    "\n",
    "        \n",
    "    def forward(self, x):\n",
    "        x = self.conv1(x)\n",
    "        x = self.classifier(x)\n",
    "\n",
    "        return x"
   ]
  },
  {
   "cell_type": "code",
   "execution_count": 141,
   "id": "17169ede",
   "metadata": {},
   "outputs": [],
   "source": [
    "class MyNN_5x5k_50(nn.Module):\n",
    "    def __init__(self, input_shape, out_shape):\n",
    "        super().__init__()\n",
    "        self.conv1 = nn.Sequential(\n",
    "            nn.Conv2d(input_shape, 64,\n",
    "                     kernel_size=(11, 11),\n",
    "                     stride=(4, 4),\n",
    "                     padding=(2, 2)),\n",
    "            nn.ELU(inplace=True),\n",
    "            nn.MaxPool2d(kernel_size=3, stride=2, padding=0, dilation=1, ceil_mode=False),\n",
    "            \n",
    "            nn.Conv2d(64, 192, kernel_size=(5, 5), stride=(1, 1), padding=(2, 2)),\n",
    "            nn.ELU(inplace=True),\n",
    "            nn.MaxPool2d(kernel_size=3, stride=2, padding=0, dilation=1, ceil_mode=False),\n",
    "            \n",
    "            nn.Conv2d(192, 192, kernel_size=(5, 5), stride=(1, 1), padding=(1, 1)),\n",
    "            nn.ELU(inplace=True),\n",
    "            \n",
    "            nn.Conv2d(192, 192, kernel_size=(5, 5), stride=(1, 1), padding=(1, 1)),\n",
    "            nn.ELU(inplace=True),\n",
    "            \n",
    "            nn.Conv2d(192, 192, kernel_size=(5, 5), stride=(1, 1), padding=(1, 1)),\n",
    "            nn.ELU(inplace=True),\n",
    "            nn.MaxPool2d(kernel_size=3, stride=2, padding=0, dilation=1, ceil_mode=False)\n",
    "        )\n",
    "        \n",
    "        self.classifier = nn.Sequential(\n",
    "            nn.Flatten(),\n",
    "            nn.Dropout(p=0.2),\n",
    "            nn.Linear(in_features=4800, out_features=50, bias=True),\n",
    "            nn.Dropout(p=0.2),\n",
    "            nn.ELU(inplace=True),\n",
    "            # nn.Linear(in_features=200, out_features=200, bias=True),\n",
    "            # nn.ReLU(),\n",
    "            nn.Linear(in_features=50, out_features=out_shape, bias=True)\n",
    "        )\n",
    "\n",
    "        \n",
    "    def forward(self, x):\n",
    "        x = self.conv1(x)\n",
    "        x = self.classifier(x)\n",
    "\n",
    "        return x"
   ]
  },
  {
   "cell_type": "code",
   "execution_count": 142,
   "id": "60de42ca",
   "metadata": {},
   "outputs": [],
   "source": [
    "class MyNN_conv_plus(nn.Module):\n",
    "    def __init__(self, input_shape, out_shape):\n",
    "        super().__init__()\n",
    "        self.conv1 = nn.Sequential(\n",
    "            nn.Conv2d(input_shape, 64,\n",
    "                     kernel_size=(11, 11),\n",
    "                     stride=(4, 4),\n",
    "                     padding=(2, 2)),\n",
    "            nn.ELU(inplace=True),\n",
    "            nn.MaxPool2d(kernel_size=3, stride=2, padding=0, dilation=1, ceil_mode=False),\n",
    "            \n",
    "            nn.Conv2d(64, 192, kernel_size=(5, 5), stride=(1, 1), padding=(2, 2)),\n",
    "            nn.ELU(inplace=True),\n",
    "            nn.MaxPool2d(kernel_size=3, stride=2, padding=0, dilation=1, ceil_mode=False),\n",
    "            \n",
    "            nn.Conv2d(192, 192, kernel_size=(5, 5), stride=(1, 1), padding=(1, 1)),\n",
    "            nn.ELU(inplace=True),\n",
    "            \n",
    "            nn.Conv2d(192, 192, kernel_size=(5, 5), stride=(1, 1), padding=(1, 1)),\n",
    "            nn.ELU(inplace=True),\n",
    "            \n",
    "            nn.Conv2d(192, 192, kernel_size=(5, 5), stride=(1, 1), padding=(1, 1)),\n",
    "            nn.ELU(inplace=True),\n",
    "            \n",
    "            nn.Conv2d(192, 192, kernel_size=(5, 5), stride=(1, 1), padding=(1, 1)),\n",
    "            nn.ELU(inplace=True),\n",
    "            nn.MaxPool2d(kernel_size=3, stride=2, padding=0, dilation=1, ceil_mode=False)\n",
    "        )\n",
    "        \n",
    "        self.classifier = nn.Sequential(\n",
    "            nn.Flatten(),\n",
    "            nn.Dropout(p=0.2),\n",
    "            nn.Linear(in_features=3072, out_features=50, bias=True),\n",
    "            nn.Dropout(p=0.2),\n",
    "            nn.ELU(inplace=True),\n",
    "            # nn.Linear(in_features=200, out_features=200, bias=True),\n",
    "            # nn.ReLU(),\n",
    "            nn.Linear(in_features=50, out_features=out_shape, bias=True)\n",
    "        )\n",
    "\n",
    "        \n",
    "    def forward(self, x):\n",
    "        x = self.conv1(x)\n",
    "        x = self.classifier(x)\n",
    "\n",
    "        return x"
   ]
  },
  {
   "cell_type": "code",
   "execution_count": 143,
   "id": "0981d3e3",
   "metadata": {},
   "outputs": [],
   "source": [
    "class MyNN_9x9(nn.Module):\n",
    "    def __init__(self, input_shape, out_shape):\n",
    "        super().__init__()\n",
    "        self.conv1 = nn.Sequential(\n",
    "            nn.Conv2d(input_shape, 64,\n",
    "                     kernel_size=(11, 11),\n",
    "                     stride=(4, 4),\n",
    "                     padding=(2, 2)),\n",
    "            nn.ELU(inplace=True),\n",
    "            nn.MaxPool2d(kernel_size=3, stride=2, padding=0, dilation=1, ceil_mode=False),\n",
    "            \n",
    "            nn.Conv2d(64, 192, kernel_size=(9, 9), stride=(1, 1), padding=(2, 2)),\n",
    "            nn.ELU(inplace=True),\n",
    "            nn.MaxPool2d(kernel_size=3, stride=2, padding=0, dilation=1, ceil_mode=False),\n",
    "            \n",
    "            nn.Conv2d(192, 192, kernel_size=(9, 9), stride=(1, 1), padding=(2, 2)),\n",
    "            nn.ELU(inplace=True),\n",
    "            \n",
    "            nn.Conv2d(192, 192, kernel_size=(9, 9), stride=(1, 1), padding=(2, 2)),\n",
    "            nn.ELU(inplace=True),\n",
    "            \n",
    "            nn.Conv2d(192, 192, kernel_size=(9, 9), stride=(1, 1), padding=(2, 2)),\n",
    "            nn.ELU(inplace=True),\n",
    "            nn.MaxPool2d(kernel_size=3, stride=2, padding=0, dilation=1, ceil_mode=False)\n",
    "        )\n",
    "        \n",
    "        self.classifier = nn.Sequential(\n",
    "            nn.Flatten(),\n",
    "            nn.Dropout(p=0.2),\n",
    "            nn.Linear(in_features=192, out_features=50, bias=True),\n",
    "            nn.Dropout(p=0.2),\n",
    "            nn.ELU(inplace=True),\n",
    "            # nn.Linear(in_features=200, out_features=200, bias=True),\n",
    "            # nn.ReLU(),\n",
    "            nn.Linear(in_features=50, out_features=out_shape, bias=True)\n",
    "        )\n",
    "\n",
    "        \n",
    "    def forward(self, x):\n",
    "        x = self.conv1(x)\n",
    "        x = self.classifier(x)\n",
    "\n",
    "        return x"
   ]
  },
  {
   "cell_type": "code",
   "execution_count": 144,
   "id": "c5bf6598",
   "metadata": {},
   "outputs": [],
   "source": [
    "class MyNN_half(nn.Module):\n",
    "    def __init__(self, input_shape, out_shape):\n",
    "        super().__init__()\n",
    "        self.conv1 = nn.Sequential(\n",
    "            nn.Conv2d(input_shape, 64,\n",
    "                     kernel_size=(11, 11),\n",
    "                     stride=(4, 4),\n",
    "                     padding=(2, 2)),\n",
    "            nn.ELU(inplace=True),\n",
    "            nn.MaxPool2d(kernel_size=3, stride=2, padding=0, dilation=1, ceil_mode=False),\n",
    "            \n",
    "            nn.Conv2d(64, 192, kernel_size=(9, 9), stride=(1, 1), padding=(2, 2)),\n",
    "            nn.ELU(inplace=True),\n",
    "            nn.MaxPool2d(kernel_size=3, stride=2, padding=0, dilation=1, ceil_mode=False),\n",
    "            \n",
    "            nn.Conv2d(192, 192, kernel_size=(9, 9), stride=(1, 1), padding=(2, 2)),\n",
    "            nn.ELU(inplace=True),\n",
    "            \n",
    "            nn.Conv2d(192, 192, kernel_size=(9, 9), stride=(1, 1), padding=(2, 2)),\n",
    "            nn.ELU(inplace=True),\n",
    "            \n",
    "            nn.Conv2d(192, 192, kernel_size=(5, 5), stride=(1, 1), padding=(2, 2)),\n",
    "            nn.ELU(inplace=True),\n",
    "            nn.MaxPool2d(kernel_size=3, stride=2, padding=0, dilation=1, ceil_mode=False)\n",
    "        )\n",
    "        \n",
    "        self.classifier = nn.Sequential(\n",
    "            nn.Flatten(),\n",
    "            nn.Dropout(p=0.2),\n",
    "            nn.Linear(in_features=1728, out_features=50, bias=True),\n",
    "            nn.Dropout(p=0.2),\n",
    "            nn.ELU(inplace=True),\n",
    "            # nn.Linear(in_features=200, out_features=200, bias=True),\n",
    "            # nn.ReLU(),\n",
    "            nn.Linear(in_features=50, out_features=out_shape, bias=True)\n",
    "        )\n",
    "\n",
    "        \n",
    "    def forward(self, x):\n",
    "        x = self.conv1(x)\n",
    "        x = self.classifier(x)\n",
    "\n",
    "        return x"
   ]
  },
  {
   "cell_type": "code",
   "execution_count": 145,
   "id": "e007b810",
   "metadata": {},
   "outputs": [],
   "source": [
    "class MyNN_half_2(nn.Module):\n",
    "    def __init__(self, input_shape, out_shape):\n",
    "        super().__init__()\n",
    "        self.conv1 = nn.Sequential(\n",
    "            nn.Conv2d(input_shape, 64,\n",
    "                     kernel_size=(11, 11),\n",
    "                     stride=(4, 4),\n",
    "                     padding=(2, 2)),\n",
    "            nn.ELU(inplace=True),\n",
    "            nn.MaxPool2d(kernel_size=3, stride=2, padding=0, dilation=1, ceil_mode=False),\n",
    "            \n",
    "            nn.Conv2d(64, 192, kernel_size=(9, 9), stride=(1, 1), padding=(2, 2)),\n",
    "            nn.ELU(inplace=True),\n",
    "            nn.MaxPool2d(kernel_size=3, stride=2, padding=0, dilation=1, ceil_mode=False),\n",
    "            \n",
    "            nn.Conv2d(192, 192, kernel_size=(9, 9), stride=(1, 1), padding=(2, 2)),\n",
    "            nn.ELU(inplace=True),\n",
    "            \n",
    "            nn.Conv2d(192, 192, kernel_size=(9, 9), stride=(1, 1), padding=(2, 2)),\n",
    "            nn.ELU(inplace=True),\n",
    "            \n",
    "            nn.Conv2d(192, 192, kernel_size=(5, 5), stride=(1, 1), padding=(2, 2)),\n",
    "            nn.ELU(inplace=True),\n",
    "            nn.MaxPool2d(kernel_size=3, stride=2, padding=0, dilation=1, ceil_mode=False)\n",
    "        )\n",
    "        \n",
    "        self.classifier = nn.Sequential(\n",
    "            nn.Flatten(),\n",
    "            nn.Dropout(p=0.2),\n",
    "            nn.Linear(in_features=1728, out_features=50, bias=True),\n",
    "            nn.Dropout(p=0.2),\n",
    "            nn.ELU(inplace=True),\n",
    "            nn.Linear(in_features=50, out_features=50, bias=True),\n",
    "            nn.ELU(inplace=True),\n",
    "            nn.Linear(in_features=50, out_features=out_shape, bias=True)\n",
    "        )\n",
    "\n",
    "        \n",
    "    def forward(self, x):\n",
    "        x = self.conv1(x)\n",
    "        x = self.classifier(x)\n",
    "\n",
    "        return x"
   ]
  },
  {
   "cell_type": "code",
   "execution_count": 146,
   "id": "01883949",
   "metadata": {},
   "outputs": [],
   "source": [
    "class MyNN_100(nn.Module):\n",
    "    def __init__(self, input_shape, out_shape):\n",
    "        super().__init__()\n",
    "        self.conv1 = nn.Sequential(\n",
    "            nn.Conv2d(input_shape, 64,\n",
    "                     kernel_size=(11, 11),\n",
    "                     stride=(4, 4),\n",
    "                     padding=(2, 2)),\n",
    "            nn.ELU(inplace=True),\n",
    "            nn.MaxPool2d(kernel_size=3, stride=2, padding=0, dilation=1, ceil_mode=False),\n",
    "            \n",
    "            nn.Conv2d(64, 192, kernel_size=(9, 9), stride=(1, 1), padding=(2, 2)),\n",
    "            nn.ELU(inplace=True),\n",
    "            nn.MaxPool2d(kernel_size=3, stride=2, padding=0, dilation=1, ceil_mode=False),\n",
    "            \n",
    "            nn.Conv2d(192, 192, kernel_size=(9, 9), stride=(1, 1), padding=(2, 2)),\n",
    "            nn.ELU(inplace=True),\n",
    "            \n",
    "            nn.Conv2d(192, 192, kernel_size=(9, 9), stride=(1, 1), padding=(2, 2)),\n",
    "            nn.ELU(inplace=True),\n",
    "            \n",
    "            nn.Conv2d(192, 192, kernel_size=(5, 5), stride=(1, 1), padding=(2, 2)),\n",
    "            nn.ELU(inplace=True),\n",
    "            nn.MaxPool2d(kernel_size=3, stride=2, padding=0, dilation=1, ceil_mode=False)\n",
    "        )\n",
    "        \n",
    "        self.classifier = nn.Sequential(\n",
    "            nn.Flatten(),\n",
    "            nn.Dropout(p=0.2),\n",
    "            nn.Linear(in_features=1728, out_features=100, bias=True),\n",
    "            nn.Dropout(p=0.2),\n",
    "            nn.ELU(inplace=True),\n",
    "            nn.Linear(in_features=100, out_features=100, bias=True),\n",
    "            nn.Dropout(p=0.2),\n",
    "            nn.ELU(inplace=True),\n",
    "            nn.Linear(in_features=100, out_features=out_shape, bias=True)\n",
    "        )\n",
    "\n",
    "        \n",
    "    def forward(self, x):\n",
    "        x = self.conv1(x)\n",
    "        x = self.classifier(x)\n",
    "\n",
    "        return x"
   ]
  },
  {
   "cell_type": "code",
   "execution_count": 147,
   "id": "e853d66f",
   "metadata": {},
   "outputs": [],
   "source": [
    "class MyNN_200(nn.Module):\n",
    "    def __init__(self, input_shape, out_shape):\n",
    "        super().__init__()\n",
    "        self.conv1 = nn.Sequential(\n",
    "            nn.Conv2d(input_shape, 64,\n",
    "                     kernel_size=(11, 11),\n",
    "                     stride=(4, 4),\n",
    "                     padding=(2, 2)),\n",
    "            nn.ELU(inplace=True),\n",
    "            nn.MaxPool2d(kernel_size=3, stride=2, padding=0, dilation=1, ceil_mode=False),\n",
    "            \n",
    "            nn.Conv2d(64, 192, kernel_size=(9, 9), stride=(1, 1), padding=(2, 2)),\n",
    "            nn.ELU(inplace=True),\n",
    "            nn.MaxPool2d(kernel_size=3, stride=2, padding=0, dilation=1, ceil_mode=False),\n",
    "            \n",
    "            nn.Conv2d(192, 192, kernel_size=(9, 9), stride=(1, 1), padding=(2, 2)),\n",
    "            nn.ELU(inplace=True),\n",
    "            \n",
    "            nn.Conv2d(192, 192, kernel_size=(9, 9), stride=(1, 1), padding=(2, 2)),\n",
    "            nn.ELU(inplace=True),\n",
    "            \n",
    "            nn.Conv2d(192, 192, kernel_size=(5, 5), stride=(1, 1), padding=(2, 2)),\n",
    "            nn.ELU(inplace=True),\n",
    "            nn.MaxPool2d(kernel_size=3, stride=2, padding=0, dilation=1, ceil_mode=False)\n",
    "        )\n",
    "        \n",
    "        self.classifier = nn.Sequential(\n",
    "            nn.Flatten(),\n",
    "            nn.Dropout(p=0.2),\n",
    "            nn.Linear(in_features=1728, out_features=200, bias=True),\n",
    "            nn.Dropout(p=0.2),\n",
    "            nn.ELU(inplace=True),\n",
    "            nn.Linear(in_features=200, out_features=200, bias=True),\n",
    "            nn.ELU(inplace=True),\n",
    "            nn.Linear(in_features=200, out_features=out_shape, bias=True)\n",
    "        )\n",
    "\n",
    "        \n",
    "    def forward(self, x):\n",
    "        x = self.conv1(x)\n",
    "        x = self.classifier(x)\n",
    "\n",
    "        return x"
   ]
  },
  {
   "cell_type": "code",
   "execution_count": 148,
   "id": "c7bc8d05",
   "metadata": {},
   "outputs": [],
   "source": [
    "class MyNN_mach(nn.Module):\n",
    "    def __init__(self, input_shape, out_shape):\n",
    "        super().__init__()\n",
    "        self.conv1 = nn.Sequential(\n",
    "            nn.Conv2d(input_shape, 64,\n",
    "                     kernel_size=(11, 11),\n",
    "                     stride=(4, 4),\n",
    "                     padding=(2, 2)),\n",
    "            nn.ELU(inplace=True),\n",
    "            nn.MaxPool2d(kernel_size=3, stride=2, padding=0, dilation=1, ceil_mode=False),\n",
    "            \n",
    "            nn.Conv2d(64, 192, kernel_size=(9, 9), stride=(1, 1), padding=(2, 2)),\n",
    "            nn.ELU(inplace=True),\n",
    "            nn.MaxPool2d(kernel_size=3, stride=2, padding=0, dilation=1, ceil_mode=False),\n",
    "            \n",
    "            nn.Conv2d(192, 192, kernel_size=(9, 9), stride=(1, 1), padding=(2, 2)),\n",
    "            nn.ELU(inplace=True),\n",
    "            \n",
    "            nn.Conv2d(192, 192, kernel_size=(9, 9), stride=(1, 1), padding=(2, 2)),\n",
    "            nn.ELU(inplace=True),\n",
    "            \n",
    "            nn.Conv2d(192, 192, kernel_size=(5, 5), stride=(1, 1), padding=(2, 2)),\n",
    "            nn.ELU(inplace=True),\n",
    "            nn.MaxPool2d(kernel_size=3, stride=2, padding=0, dilation=1, ceil_mode=False)\n",
    "        )\n",
    "        \n",
    "        self.classifier = nn.Sequential(\n",
    "            nn.Flatten(),\n",
    "            nn.Dropout(p=0.5),\n",
    "            nn.Linear(in_features=1728, out_features=200, bias=True),\n",
    "            nn.Dropout(p=0.5),\n",
    "            nn.ELU(inplace=True),\n",
    "            nn.Linear(in_features=200, out_features=200, bias=True),\n",
    "            nn.Dropout(p=0.5),\n",
    "            nn.ELU(inplace=True),\n",
    "            nn.Linear(in_features=200, out_features=200, bias=True),\n",
    "            nn.Dropout(p=0.5),\n",
    "            nn.ELU(inplace=True),\n",
    "            nn.Linear(in_features=200, out_features=200, bias=True),\n",
    "            nn.Dropout(p=0.5),\n",
    "            nn.ELU(inplace=True),\n",
    "            nn.Linear(in_features=200, out_features=200, bias=True),\n",
    "            nn.Dropout(p=0.5),\n",
    "            nn.ELU(inplace=True),\n",
    "            nn.Linear(in_features=200, out_features=out_shape, bias=True)\n",
    "        )\n",
    "\n",
    "        \n",
    "    def forward(self, x):\n",
    "        x = self.conv1(x)\n",
    "        x = self.classifier(x)\n",
    "\n",
    "        return x"
   ]
  },
  {
   "cell_type": "code",
   "execution_count": 149,
   "id": "320e865a",
   "metadata": {},
   "outputs": [],
   "source": [
    "class MyNN_t(nn.Module):\n",
    "    def __init__(self, input_shape, out_shape):\n",
    "        super().__init__()\n",
    "        self.conv1 = nn.Sequential(\n",
    "            nn.Conv2d(input_shape, 64,\n",
    "                     kernel_size=(11, 11),\n",
    "                     stride=(4, 4),\n",
    "                     padding=(2, 2)),\n",
    "            nn.ELU(inplace=True),\n",
    "            nn.MaxPool2d(kernel_size=3, stride=2, padding=0, dilation=1, ceil_mode=False),\n",
    "            \n",
    "            nn.Conv2d(64, 192, kernel_size=(11, 11), stride=(1, 1), padding=(2, 2)),\n",
    "            nn.ELU(inplace=True),\n",
    "            nn.MaxPool2d(kernel_size=3, stride=2, padding=0, dilation=1, ceil_mode=False),\n",
    "            \n",
    "            nn.Conv2d(192, 192, kernel_size=(9, 9), stride=(1, 1), padding=(2, 2)),\n",
    "            nn.ELU(inplace=True),\n",
    "            \n",
    "            nn.Conv2d(192, 192, kernel_size=(5, 5), stride=(1, 1), padding=(2, 2)),\n",
    "            nn.ELU(inplace=True),\n",
    "            \n",
    "            nn.Conv2d(192, 192, kernel_size=(5, 5), stride=(1, 1), padding=(2, 2)),\n",
    "            nn.ELU(inplace=True),\n",
    "            nn.MaxPool2d(kernel_size=3, stride=2, padding=0, dilation=1, ceil_mode=False)\n",
    "        )\n",
    "        \n",
    "        self.classifier = nn.Sequential(\n",
    "            nn.Flatten(),\n",
    "            nn.Dropout(p=0.2),\n",
    "            nn.Linear(in_features=3072, out_features=200, bias=True),\n",
    "            nn.Dropout(p=0.2),\n",
    "            nn.ELU(inplace=True),\n",
    "            nn.Linear(in_features=200, out_features=200, bias=True),\n",
    "            nn.Dropout(p=0.2),\n",
    "            nn.ELU(inplace=True),\n",
    "            nn.Linear(in_features=200, out_features=out_shape, bias=True)\n",
    "        )\n",
    "\n",
    "        \n",
    "    def forward(self, x):\n",
    "        x = self.conv1(x)\n",
    "        x = self.classifier(x)\n",
    "\n",
    "        return x"
   ]
  },
  {
   "cell_type": "code",
   "execution_count": 150,
   "id": "2d64cbd0",
   "metadata": {},
   "outputs": [],
   "source": [
    "class MyNN_alpha(nn.Module):\n",
    "    def __init__(self, input_shape, out_shape):\n",
    "        super().__init__()\n",
    "        self.conv1 = nn.Sequential(\n",
    "            nn.Conv2d(input_shape, 64,\n",
    "                     kernel_size=(11, 11),\n",
    "                     stride=(4, 4),\n",
    "                     padding=(2, 2)),\n",
    "            nn.ELU(inplace=True),\n",
    "            nn.MaxPool2d(kernel_size=3, stride=2, padding=0, dilation=1, ceil_mode=False),\n",
    "            \n",
    "            nn.Conv2d(64, 192, kernel_size=(11, 11), stride=(1, 1), padding=(2, 2)),\n",
    "            nn.ELU(inplace=True),\n",
    "            nn.MaxPool2d(kernel_size=3, stride=2, padding=0, dilation=1, ceil_mode=False),\n",
    "            \n",
    "            nn.Conv2d(192, 192, kernel_size=(9, 9), stride=(1, 1), padding=(2, 2)),\n",
    "            nn.ELU(inplace=True),\n",
    "            \n",
    "            nn.Conv2d(192, 192, kernel_size=(5, 5), stride=(1, 1), padding=(2, 2)),\n",
    "            nn.ELU(inplace=True),\n",
    "            \n",
    "            nn.Conv2d(192, 192, kernel_size=(5, 5), stride=(1, 1), padding=(2, 2)),\n",
    "            nn.ELU(inplace=True),\n",
    "            nn.MaxPool2d(kernel_size=3, stride=2, padding=0, dilation=1, ceil_mode=False)\n",
    "        )\n",
    "        \n",
    "        self.classifier = nn.Sequential(\n",
    "            nn.Flatten(),\n",
    "            nn.Dropout(p=0.2),\n",
    "            nn.Linear(in_features=3072, out_features=200, bias=True),\n",
    "            nn.Dropout(p=0.2),\n",
    "            nn.ELU(inplace=True),\n",
    "            nn.Linear(in_features=200, out_features=150, bias=True),\n",
    "            nn.Dropout(p=0.2),\n",
    "            nn.ELU(inplace=True),\n",
    "            nn.Linear(in_features=150, out_features=out_shape, bias=True)\n",
    "        )\n",
    "\n",
    "        \n",
    "    def forward(self, x):\n",
    "        x = self.conv1(x)\n",
    "        x = self.classifier(x)\n",
    "\n",
    "        return x"
   ]
  },
  {
   "cell_type": "code",
   "execution_count": 151,
   "id": "d242ac3f",
   "metadata": {},
   "outputs": [],
   "source": [
    "class MyNN_beta(nn.Module):\n",
    "    def __init__(self, input_shape, out_shape):\n",
    "        super().__init__()\n",
    "        self.conv1 = nn.Sequential(\n",
    "            nn.Conv2d(input_shape, 64,\n",
    "                     kernel_size=(9, 9),\n",
    "                     stride=(4, 4),\n",
    "                     padding=(2, 2)),\n",
    "            nn.ELU(inplace=True),\n",
    "            nn.MaxPool2d(kernel_size=3, stride=2, padding=0, dilation=1, ceil_mode=False),\n",
    "            \n",
    "            nn.Conv2d(64, 192, kernel_size=(11, 11), stride=(1, 1), padding=(2, 2)),\n",
    "            nn.ELU(inplace=True),\n",
    "            nn.MaxPool2d(kernel_size=3, stride=2, padding=0, dilation=1, ceil_mode=False),\n",
    "            \n",
    "            nn.Conv2d(192, 192, kernel_size=(9, 9), stride=(1, 1), padding=(2, 2)),\n",
    "            nn.ELU(inplace=True),\n",
    "            \n",
    "            nn.Conv2d(192, 192, kernel_size=(5, 5), stride=(1, 1), padding=(2, 2)),\n",
    "            nn.ELU(inplace=True),\n",
    "            \n",
    "            nn.Conv2d(192, 192, kernel_size=(5, 5), stride=(1, 1), padding=(2, 2)),\n",
    "            nn.ELU(inplace=True),\n",
    "            nn.MaxPool2d(kernel_size=3, stride=2, padding=0, dilation=1, ceil_mode=False)\n",
    "        )\n",
    "        \n",
    "        self.classifier = nn.Sequential(\n",
    "            nn.Flatten(),\n",
    "            nn.Dropout(p=0.2),\n",
    "            nn.Linear(in_features=3072, out_features=200, bias=True),\n",
    "            nn.Dropout(p=0.2),\n",
    "            nn.ELU(inplace=True),\n",
    "            nn.Linear(in_features=200, out_features=100, bias=True),\n",
    "            nn.Dropout(p=0.2),\n",
    "            nn.ELU(inplace=True),\n",
    "            nn.Linear(in_features=100, out_features=out_shape, bias=True)\n",
    "        )\n",
    "\n",
    "        \n",
    "    def forward(self, x):\n",
    "        x = self.conv1(x)\n",
    "        x = self.classifier(x)\n",
    "\n",
    "        return x"
   ]
  },
  {
   "cell_type": "code",
   "execution_count": 152,
   "id": "3240e93f",
   "metadata": {},
   "outputs": [],
   "source": [
    "class MyNN_gamma(nn.Module):\n",
    "    def __init__(self, input_shape, out_shape):\n",
    "        super().__init__()\n",
    "        self.conv1 = nn.Sequential(\n",
    "            nn.Conv2d(input_shape, 64,\n",
    "                     kernel_size=(9, 9),\n",
    "                     stride=(4, 4),\n",
    "                     padding=(2, 2)),\n",
    "            nn.ELU(inplace=True),\n",
    "            nn.MaxPool2d(kernel_size=3, stride=2, padding=0, dilation=1, ceil_mode=False),\n",
    "            \n",
    "            nn.Conv2d(64, 192, kernel_size=(9, 9), stride=(1, 1), padding=(2, 2)),\n",
    "            nn.ELU(inplace=True),\n",
    "            nn.MaxPool2d(kernel_size=3, stride=2, padding=0, dilation=1, ceil_mode=False),\n",
    "            \n",
    "            nn.Conv2d(192, 192, kernel_size=(5, 5), stride=(1, 1), padding=(2, 2)),\n",
    "            nn.ELU(inplace=True),\n",
    "            \n",
    "            nn.Conv2d(192, 192, kernel_size=(11, 11), stride=(1, 1), padding=(2, 2)),\n",
    "            nn.ELU(inplace=True),\n",
    "            \n",
    "            nn.Conv2d(192, 192, kernel_size=(5, 5), stride=(1, 1), padding=(2, 2)),\n",
    "            nn.ELU(inplace=True),\n",
    "            nn.MaxPool2d(kernel_size=3, stride=2, padding=0, dilation=1, ceil_mode=False)\n",
    "        )\n",
    "        \n",
    "        self.classifier = nn.Sequential(\n",
    "            nn.Flatten(),\n",
    "            nn.Dropout(p=0.2),\n",
    "            nn.Linear(in_features=3072, out_features=200, bias=True),\n",
    "            nn.Dropout(p=0.2),\n",
    "            nn.ELU(inplace=True),\n",
    "            nn.Linear(in_features=200, out_features=100, bias=True),\n",
    "            nn.Dropout(p=0.2),\n",
    "            nn.ELU(inplace=True),\n",
    "            nn.Linear(in_features=100, out_features=out_shape, bias=True)\n",
    "        )\n",
    "\n",
    "        \n",
    "    def forward(self, x):\n",
    "        x = self.conv1(x)\n",
    "        x = self.classifier(x)\n",
    "\n",
    "        return x"
   ]
  },
  {
   "cell_type": "code",
   "execution_count": 153,
   "id": "403f5581",
   "metadata": {},
   "outputs": [],
   "source": [
    "class MyNN_delta(nn.Module):\n",
    "    def __init__(self, input_shape, out_shape):\n",
    "        super().__init__()\n",
    "        self.conv1 = nn.Sequential(\n",
    "            nn.Conv2d(input_shape, 16,\n",
    "                     kernel_size=(9, 9),\n",
    "                     stride=(4, 4),\n",
    "                     padding=(2, 2)),\n",
    "            nn.ELU(inplace=True),\n",
    "            nn.MaxPool2d(kernel_size=3, stride=2, padding=0, dilation=1, ceil_mode=False),\n",
    "            \n",
    "            nn.Conv2d(16, 32, kernel_size=(9, 9), stride=(1, 1), padding=(2, 2)),\n",
    "            nn.ELU(inplace=True),\n",
    "            nn.MaxPool2d(kernel_size=3, stride=2, padding=0, dilation=1, ceil_mode=False),\n",
    "            \n",
    "            nn.Conv2d(32, 64, kernel_size=(5, 5), stride=(1, 1), padding=(2, 2)),\n",
    "            nn.ELU(inplace=True),\n",
    "            \n",
    "            nn.Conv2d(64, 128, kernel_size=(11, 11), stride=(1, 1), padding=(2, 2)),\n",
    "            nn.ELU(inplace=True),\n",
    "            \n",
    "            nn.Conv2d(128, 256, kernel_size=(5, 5), stride=(1, 1), padding=(2, 2)),\n",
    "            nn.ELU(inplace=True),\n",
    "            nn.MaxPool2d(kernel_size=3, stride=2, padding=0, dilation=1, ceil_mode=False)\n",
    "        )\n",
    "        \n",
    "        self.classifier = nn.Sequential(\n",
    "            nn.Flatten(),\n",
    "            nn.Dropout(p=0.2),\n",
    "            nn.Linear(in_features=4096, out_features=200, bias=True),\n",
    "            nn.Dropout(p=0.2),\n",
    "            nn.ELU(inplace=True),\n",
    "            nn.Linear(in_features=200, out_features=100, bias=True),\n",
    "            nn.Dropout(p=0.2),\n",
    "            nn.ELU(inplace=True),\n",
    "            nn.Linear(in_features=100, out_features=out_shape, bias=True)\n",
    "        )\n",
    "\n",
    "        \n",
    "    def forward(self, x):\n",
    "        x = self.conv1(x)\n",
    "        x = self.classifier(x)\n",
    "\n",
    "        return x"
   ]
  },
  {
   "cell_type": "code",
   "execution_count": 154,
   "id": "19ccd887",
   "metadata": {},
   "outputs": [],
   "source": [
    "class MyNN_epsilon(nn.Module):\n",
    "    def __init__(self, input_shape, out_shape):\n",
    "        super().__init__()\n",
    "        self.conv1 = nn.Sequential(\n",
    "            nn.Conv2d(input_shape, 64,\n",
    "                     kernel_size=(9, 9),\n",
    "                     stride=(4, 4),\n",
    "                     padding=(2, 2)),\n",
    "            nn.ELU(inplace=True),\n",
    "            nn.MaxPool2d(kernel_size=3, stride=2, padding=0, dilation=1, ceil_mode=False),\n",
    "            \n",
    "            nn.Conv2d(64, 192, kernel_size=(9, 9), stride=(1, 1), padding=(2, 2)),\n",
    "            nn.ELU(inplace=True),\n",
    "            nn.MaxPool2d(kernel_size=3, stride=2, padding=0, dilation=1, ceil_mode=False),\n",
    "            \n",
    "            nn.Conv2d(192, 256, kernel_size=(5, 5), stride=(1, 1), padding=(2, 2)),\n",
    "            nn.ELU(inplace=True),\n",
    "            \n",
    "            nn.Conv2d(256, 256, kernel_size=(11, 11), stride=(1, 1), padding=(2, 2)),\n",
    "            nn.ELU(inplace=True),\n",
    "            \n",
    "            nn.Conv2d(256, 256, kernel_size=(5, 5), stride=(1, 1), padding=(2, 2)),\n",
    "            nn.ELU(inplace=True),\n",
    "            nn.MaxPool2d(kernel_size=3, stride=2, padding=0, dilation=1, ceil_mode=False)\n",
    "        )\n",
    "        \n",
    "        self.classifier = nn.Sequential(\n",
    "            nn.Flatten(),\n",
    "            nn.Dropout(p=0.2),\n",
    "            nn.Linear(in_features=4096, out_features=200, bias=True),\n",
    "            nn.Dropout(p=0.2),\n",
    "            nn.ELU(inplace=True),\n",
    "            nn.Linear(in_features=200, out_features=100, bias=True),\n",
    "            nn.Dropout(p=0.2),\n",
    "            nn.ELU(inplace=True),\n",
    "            nn.Linear(in_features=100, out_features=out_shape, bias=True)\n",
    "        )\n",
    "\n",
    "        \n",
    "    def forward(self, x):\n",
    "        x = self.conv1(x)\n",
    "        x = self.classifier(x)\n",
    "\n",
    "        return x"
   ]
  },
  {
   "cell_type": "code",
   "execution_count": 155,
   "id": "eef1e148",
   "metadata": {},
   "outputs": [],
   "source": [
    "class MyNN_dzeta(nn.Module):\n",
    "    def __init__(self, input_shape, out_shape):\n",
    "        super().__init__()\n",
    "        self.conv1 = nn.Sequential(\n",
    "            nn.Conv2d(input_shape, 64,\n",
    "                     kernel_size=(9, 9),\n",
    "                     stride=(4, 4),\n",
    "                     padding=(2, 2)),\n",
    "            nn.ELU(inplace=True),\n",
    "            nn.MaxPool2d(kernel_size=3, stride=2, padding=0, dilation=1, ceil_mode=False),\n",
    "            \n",
    "            nn.Conv2d(64, 192, kernel_size=(9, 9), stride=(1, 1), padding=(2, 2)),\n",
    "            nn.ELU(inplace=True),\n",
    "            nn.MaxPool2d(kernel_size=3, stride=2, padding=0, dilation=1, ceil_mode=False),\n",
    "            \n",
    "            nn.Conv2d(192, 256, kernel_size=(9, 9), stride=(1, 1), padding=(2, 2)),\n",
    "            nn.ELU(inplace=True),\n",
    "            \n",
    "            nn.Conv2d(256, 256, kernel_size=(11, 11), stride=(1, 1), padding=(2, 2)),\n",
    "            nn.ELU(inplace=True),\n",
    "            \n",
    "            nn.Conv2d(256, 256, kernel_size=(5, 5), stride=(1, 1), padding=(2, 2)),\n",
    "            nn.ELU(inplace=True),\n",
    "            nn.MaxPool2d(kernel_size=3, stride=2, padding=0, dilation=1, ceil_mode=False)\n",
    "        )\n",
    "        \n",
    "        self.classifier = nn.Sequential(\n",
    "            nn.Flatten(),\n",
    "            nn.Dropout(p=0.2),\n",
    "            nn.Linear(in_features=1024, out_features=200, bias=True),\n",
    "            nn.Dropout(p=0.2),\n",
    "            nn.ELU(inplace=True),\n",
    "            nn.Linear(in_features=200, out_features=100, bias=True),\n",
    "            nn.Dropout(p=0.2),\n",
    "            nn.ELU(inplace=True),\n",
    "            nn.Linear(in_features=100, out_features=out_shape, bias=True)\n",
    "        )\n",
    "\n",
    "        \n",
    "    def forward(self, x):\n",
    "        x = self.conv1(x)\n",
    "        x = self.classifier(x)\n",
    "\n",
    "        return x"
   ]
  },
  {
   "cell_type": "code",
   "execution_count": 156,
   "id": "a2b1d8d0",
   "metadata": {},
   "outputs": [],
   "source": [
    "class MyNN_eta(nn.Module):\n",
    "    def __init__(self, input_shape, out_shape):\n",
    "        super().__init__()\n",
    "        self.conv1 = nn.Sequential(\n",
    "            nn.Conv2d(input_shape, 64,\n",
    "                     kernel_size=(9, 9),\n",
    "                     stride=(4, 4),\n",
    "                     padding=(2, 2)),\n",
    "            nn.ELU(inplace=True),\n",
    "            nn.MaxPool2d(kernel_size=3, stride=2, padding=0, dilation=1, ceil_mode=False),\n",
    "            \n",
    "            nn.Conv2d(64, 128, kernel_size=(9, 9), stride=(1, 1), padding=(2, 2)),\n",
    "            nn.ELU(inplace=True),\n",
    "            nn.MaxPool2d(kernel_size=3, stride=2, padding=0, dilation=1, ceil_mode=False),\n",
    "            \n",
    "            nn.Conv2d(128, 200, kernel_size=(9, 9), stride=(1, 1), padding=(2, 2)),\n",
    "            nn.ELU(inplace=True),\n",
    "            \n",
    "            nn.Conv2d(200, 200, kernel_size=(11, 11), stride=(1, 1), padding=(2, 2)),\n",
    "            nn.ELU(inplace=True),\n",
    "            \n",
    "            nn.Conv2d(200, 200, kernel_size=(5, 5), stride=(1, 1), padding=(2, 2)),\n",
    "            nn.ELU(inplace=True),\n",
    "            nn.MaxPool2d(kernel_size=3, stride=2, padding=0, dilation=1, ceil_mode=False)\n",
    "        )\n",
    "        \n",
    "        self.classifier = nn.Sequential(\n",
    "            nn.Flatten(),\n",
    "            nn.Dropout(p=0.2),\n",
    "            nn.Linear(in_features=800, out_features=200, bias=True),\n",
    "            nn.Dropout(p=0.2),\n",
    "            nn.ELU(inplace=True),\n",
    "            nn.Linear(in_features=200, out_features=100, bias=True),\n",
    "            nn.Dropout(p=0.2),\n",
    "            nn.ELU(inplace=True),\n",
    "            nn.Linear(in_features=100, out_features=out_shape, bias=True)\n",
    "        )\n",
    "\n",
    "        \n",
    "    def forward(self, x):\n",
    "        x = self.conv1(x)\n",
    "        x = self.classifier(x)\n",
    "\n",
    "        return x"
   ]
  },
  {
   "cell_type": "code",
   "execution_count": 157,
   "id": "56977ccb",
   "metadata": {},
   "outputs": [],
   "source": [
    "class MyNN_teta(nn.Module):\n",
    "    def __init__(self, input_shape, out_shape):\n",
    "        super().__init__()\n",
    "        self.conv1 = nn.Sequential(\n",
    "            nn.Conv2d(input_shape, 64,\n",
    "                     kernel_size=(9, 9),\n",
    "                     stride=(4, 4),\n",
    "                     padding=(2, 2)),\n",
    "            nn.ELU(inplace=True),\n",
    "            nn.MaxPool2d(kernel_size=3, stride=2, padding=0, dilation=1, ceil_mode=False),\n",
    "            \n",
    "            nn.Conv2d(64, 128, kernel_size=(9, 9), stride=(1, 1), padding=(2, 2)),\n",
    "            nn.ELU(inplace=True),\n",
    "            nn.MaxPool2d(kernel_size=3, stride=2, padding=0, dilation=1, ceil_mode=False),\n",
    "            \n",
    "            nn.Conv2d(128, 200, kernel_size=(9, 9), stride=(1, 1), padding=(2, 2)),\n",
    "            nn.ELU(inplace=True),\n",
    "            \n",
    "            nn.Conv2d(200, 200, kernel_size=(9, 9), stride=(1, 1), padding=(2, 2)),\n",
    "            nn.ELU(inplace=True),\n",
    "            \n",
    "            nn.Conv2d(200, 200, kernel_size=(5, 5), stride=(1, 1), padding=(2, 2)),\n",
    "            nn.ELU(inplace=True),\n",
    "            nn.MaxPool2d(kernel_size=3, stride=2, padding=0, dilation=1, ceil_mode=False)\n",
    "        )\n",
    "        \n",
    "        self.classifier = nn.Sequential(\n",
    "            nn.Flatten(),\n",
    "            nn.Dropout(p=0.2),\n",
    "            nn.Linear(in_features=1800, out_features=100, bias=True),\n",
    "            nn.Dropout(p=0.2),\n",
    "            nn.ELU(inplace=True),\n",
    "            nn.Linear(in_features=100, out_features=50, bias=True),\n",
    "            nn.Dropout(p=0.2),\n",
    "            nn.ELU(inplace=True),\n",
    "            nn.Linear(in_features=50, out_features=out_shape, bias=True)\n",
    "        )\n",
    "\n",
    "        \n",
    "    def forward(self, x):\n",
    "        x = self.conv1(x)\n",
    "        x = self.classifier(x)\n",
    "\n",
    "        return x"
   ]
  },
  {
   "cell_type": "code",
   "execution_count": 158,
   "id": "dd0ba91f",
   "metadata": {},
   "outputs": [],
   "source": [
    "class MyNN_iota(nn.Module):\n",
    "    def __init__(self, input_shape, out_shape):\n",
    "        super().__init__()\n",
    "        self.conv1 = nn.Sequential(\n",
    "            nn.Conv2d(input_shape, 64,\n",
    "                     kernel_size=(9, 9),\n",
    "                     stride=(4, 4),\n",
    "                     padding=(2, 2)),\n",
    "            nn.ELU(inplace=True),\n",
    "            nn.MaxPool2d(kernel_size=3, stride=2, padding=0, dilation=1, ceil_mode=False),\n",
    "            \n",
    "            nn.Conv2d(64, 128, kernel_size=(9, 9), stride=(1, 1), padding=(2, 2)),\n",
    "            nn.ELU(inplace=True),\n",
    "            nn.MaxPool2d(kernel_size=3, stride=2, padding=0, dilation=1, ceil_mode=False),\n",
    "            \n",
    "            nn.Conv2d(128, 200, kernel_size=(9, 9), stride=(1, 1), padding=(2, 2)),\n",
    "            nn.ELU(inplace=True),\n",
    "            \n",
    "            nn.Conv2d(200, 200, kernel_size=(9, 9), stride=(1, 1), padding=(2, 2)),\n",
    "            nn.ELU(inplace=True),\n",
    "            \n",
    "            nn.Conv2d(200, 200, kernel_size=(5, 5), stride=(1, 1), padding=(2, 2)),\n",
    "            nn.ELU(inplace=True),\n",
    "            nn.MaxPool2d(kernel_size=3, stride=2, padding=0, dilation=1, ceil_mode=False)\n",
    "        )\n",
    "        \n",
    "        self.classifier = nn.Sequential(\n",
    "            nn.Flatten(),\n",
    "            nn.Dropout(p=0.2),\n",
    "            nn.Linear(in_features=1800, out_features=50, bias=True),\n",
    "            nn.Dropout(p=0.2),\n",
    "            nn.ELU(inplace=True),\n",
    "#             nn.Linear(in_features=100, out_features=50, bias=True),\n",
    "#             nn.Dropout(p=0.2),\n",
    "#             nn.ELU(inplace=True),\n",
    "            nn.Linear(in_features=50, out_features=out_shape, bias=True)\n",
    "        )\n",
    "\n",
    "        \n",
    "    def forward(self, x):\n",
    "        x = self.conv1(x)\n",
    "        x = self.classifier(x)\n",
    "\n",
    "        return x"
   ]
  },
  {
   "cell_type": "code",
   "execution_count": 159,
   "id": "b9cefbe2",
   "metadata": {},
   "outputs": [],
   "source": [
    "class MyNN_kappa(nn.Module):\n",
    "    def __init__(self, input_shape, out_shape):\n",
    "        super().__init__()\n",
    "        self.conv1 = nn.Sequential(\n",
    "            nn.Conv2d(input_shape, 64,\n",
    "                     kernel_size=(9, 9),\n",
    "                     stride=(4, 4),\n",
    "                     padding=(2, 2)),\n",
    "            nn.ELU(inplace=True),\n",
    "            nn.MaxPool2d(kernel_size=3, stride=2, padding=0, dilation=1, ceil_mode=False),\n",
    "            \n",
    "            nn.Conv2d(64, 128, kernel_size=(9, 9), stride=(1, 1), padding=(2, 2)),\n",
    "            nn.ELU(inplace=True),\n",
    "            nn.MaxPool2d(kernel_size=3, stride=2, padding=0, dilation=1, ceil_mode=False),\n",
    "            \n",
    "            nn.Conv2d(128, 200, kernel_size=(9, 9), stride=(1, 1), padding=(2, 2)),\n",
    "            nn.ELU(inplace=True),\n",
    "            \n",
    "            nn.Conv2d(200, 200, kernel_size=(9, 9), stride=(1, 1), padding=(2, 2)),\n",
    "            nn.ELU(inplace=True),\n",
    "            \n",
    "            nn.Conv2d(200, 200, kernel_size=(9, 9), stride=(1, 1), padding=(2, 2)),\n",
    "            nn.ELU(inplace=True),\n",
    "            nn.MaxPool2d(kernel_size=3, stride=2, padding=0, dilation=1, ceil_mode=False)\n",
    "        )\n",
    "        \n",
    "        self.classifier = nn.Sequential(\n",
    "            nn.Flatten(),\n",
    "            nn.Dropout(p=0.2),\n",
    "            nn.Linear(in_features=200, out_features=50, bias=True),\n",
    "            nn.Dropout(p=0.2),\n",
    "            nn.ELU(inplace=True),\n",
    "#             nn.Linear(in_features=100, out_features=50, bias=True),\n",
    "#             nn.Dropout(p=0.2),\n",
    "#             nn.ELU(inplace=True),\n",
    "            nn.Linear(in_features=50, out_features=out_shape, bias=True)\n",
    "        )\n",
    "\n",
    "        \n",
    "    def forward(self, x):\n",
    "        x = self.conv1(x)\n",
    "        x = self.classifier(x)\n",
    "\n",
    "        return x"
   ]
  },
  {
   "cell_type": "code",
   "execution_count": 160,
   "id": "bacba2e0",
   "metadata": {},
   "outputs": [],
   "source": [
    "class MyNN_lambda(nn.Module):\n",
    "    def __init__(self, input_shape, out_shape):\n",
    "        super().__init__()\n",
    "        self.conv1 = nn.Sequential(\n",
    "            nn.Conv2d(input_shape, 64,\n",
    "                     kernel_size=(9, 9),\n",
    "                     stride=(4, 4),\n",
    "                     padding=(2, 2)),\n",
    "            nn.ELU(inplace=True),\n",
    "            nn.MaxPool2d(kernel_size=3, stride=2, padding=0, dilation=1, ceil_mode=False),\n",
    "            \n",
    "            nn.Conv2d(64, 256, kernel_size=(9, 9), stride=(1, 1), padding=(2, 2)),\n",
    "            nn.ELU(inplace=True),\n",
    "            nn.MaxPool2d(kernel_size=3, stride=2, padding=0, dilation=1, ceil_mode=False),\n",
    "            \n",
    "            nn.Conv2d(256, 512, kernel_size=(9, 9), stride=(1, 1), padding=(2, 2)),\n",
    "            nn.ELU(inplace=True),\n",
    "            \n",
    "            nn.Conv2d(512, 512, kernel_size=(9, 9), stride=(1, 1), padding=(2, 2)),\n",
    "            nn.ELU(inplace=True),\n",
    "            \n",
    "            nn.Conv2d(512, 512, kernel_size=(9, 9), stride=(1, 1), padding=(2, 2)),\n",
    "            nn.ELU(inplace=True),\n",
    "            nn.MaxPool2d(kernel_size=3, stride=2, padding=0, dilation=1, ceil_mode=False)\n",
    "        )\n",
    "        \n",
    "        self.classifier = nn.Sequential(\n",
    "            nn.Flatten(),\n",
    "            nn.Dropout(p=0.2),\n",
    "            nn.Linear(in_features=512, out_features=50, bias=True),\n",
    "            nn.Dropout(p=0.2),\n",
    "            nn.ELU(inplace=True),\n",
    "#             nn.Linear(in_features=100, out_features=50, bias=True),\n",
    "#             nn.Dropout(p=0.2),\n",
    "#             nn.ELU(inplace=True),\n",
    "            nn.Linear(in_features=50, out_features=out_shape, bias=True)\n",
    "        )\n",
    "\n",
    "        \n",
    "    def forward(self, x):\n",
    "        x = self.conv1(x)\n",
    "        x = self.classifier(x)\n",
    "\n",
    "        return x"
   ]
  },
  {
   "cell_type": "markdown",
   "id": "3a61f556",
   "metadata": {},
   "source": [
    "## Лучший вариант нейросети"
   ]
  },
  {
   "cell_type": "code",
   "execution_count": 161,
   "id": "4bcf6a3c",
   "metadata": {},
   "outputs": [],
   "source": [
    "class MyNN_mu(nn.Module):\n",
    "    def __init__(self, input_shape, out_shape):\n",
    "        super().__init__()\n",
    "        self.conv1 = nn.Sequential(\n",
    "            nn.Conv2d(input_shape, 64,\n",
    "                     kernel_size=(9, 9),\n",
    "                     stride=(4, 4),\n",
    "                     padding=(2, 2)),\n",
    "            nn.ELU(inplace=True),\n",
    "            nn.MaxPool2d(kernel_size=3, stride=2, padding=0, dilation=1, ceil_mode=False),\n",
    "            \n",
    "            nn.Conv2d(64, 192, kernel_size=(5, 5), stride=(1, 1), padding=(2, 2)),\n",
    "            nn.ELU(inplace=True),\n",
    "            \n",
    "            \n",
    "            nn.Conv2d(192, 192, kernel_size=(9, 9), stride=(1, 1), padding=(2, 2)),\n",
    "            nn.ELU(inplace=True),\n",
    "            \n",
    "            nn.Conv2d(192, 192, kernel_size=(11, 11), stride=(1, 1), padding=(2, 2)),\n",
    "            nn.ELU(inplace=True),\n",
    "            nn.MaxPool2d(kernel_size=3, stride=2, padding=0, dilation=1, ceil_mode=False),\n",
    "            \n",
    "            nn.Conv2d(192, 192, kernel_size=(5, 5), stride=(1, 1), padding=(2, 2)),\n",
    "            nn.ELU(inplace=True),\n",
    "            nn.MaxPool2d(kernel_size=3, stride=2, padding=0, dilation=1, ceil_mode=False)\n",
    "        )\n",
    "        \n",
    "        self.classifier = nn.Sequential(\n",
    "            nn.Flatten(),\n",
    "            nn.Dropout(p=0.2),\n",
    "            nn.Linear(in_features=4800, out_features=200, bias=True),\n",
    "            nn.Dropout(p=0.2),\n",
    "            nn.ELU(inplace=True),\n",
    "            nn.Linear(in_features=200, out_features=100, bias=True),\n",
    "            nn.Dropout(p=0.2),\n",
    "            nn.ELU(inplace=True),\n",
    "            nn.Linear(in_features=100, out_features=out_shape, bias=True)\n",
    "        )\n",
    "\n",
    "        \n",
    "    def forward(self, x):\n",
    "        x = self.conv1(x)\n",
    "        x = self.classifier(x)\n",
    "\n",
    "        return x"
   ]
  },
  {
   "cell_type": "markdown",
   "id": "80301262",
   "metadata": {},
   "source": [
    "## Пишем цикл обучения"
   ]
  },
  {
   "cell_type": "code",
   "execution_count": 163,
   "id": "433da4c6",
   "metadata": {},
   "outputs": [],
   "source": [
    "labels_dct = dict((v, k) for k, v in bg_val_dataset.en().items())"
   ]
  },
  {
   "cell_type": "code",
   "execution_count": 164,
   "id": "d76fe5dd",
   "metadata": {
    "executionInfo": {
     "elapsed": 2,
     "status": "ok",
     "timestamp": 1683203893300,
     "user": {
      "displayName": "Семенников Макар",
      "userId": "05697875105098319337"
     },
     "user_tz": -180
    },
    "id": "d76fe5dd"
   },
   "outputs": [],
   "source": [
    "from tqdm.auto import tqdm\n",
    "\n",
    "def train_epoch(model, dataloader, loss_fn, optimizer):\n",
    "    model.train()\n",
    "    computet_data = 0\n",
    "    train_loss = 0.0\n",
    "    correct = 0\n",
    "    for X, y in tqdm(dataloader):\n",
    "    \n",
    "        X = X.to(device)\n",
    "        y = y.to(device)\n",
    "        \n",
    "        optimizer.zero_grad()\n",
    "        \n",
    "        outputs = model(X)\n",
    "        \n",
    "        loss = loss_fn(outputs, y)\n",
    "        \n",
    "        loss.backward()\n",
    "        \n",
    "        optimizer.step()\n",
    "        \n",
    "        preds = torch.argmax(outputs, 1)\n",
    "        \n",
    "        train_loss += loss.item() * X.size(0)\n",
    "        correct += torch.sum(preds==y.data)\n",
    "        computet_data += X.size(0)\n",
    "    train_loss = train_loss / computet_data\n",
    "    train_acc = correct.cpu().numpy() / computet_data\n",
    "    return train_loss, train_acc"
   ]
  },
  {
   "cell_type": "code",
   "execution_count": 165,
   "id": "9fc53614",
   "metadata": {},
   "outputs": [],
   "source": [
    "def predict_nn(model, test_dataloader, dct):\n",
    "    model.to(device)\n",
    "    model.eval()\n",
    "    preds = []\n",
    "    for X, y in test_dataloader:\n",
    "        X = X.to(device)\n",
    "        with torch.no_grad():\n",
    "            pred = model(X)\n",
    "        sft = nn.functional.softmax(pred, dim=-1)\n",
    "        preds += [int(x) for x in torch.argmax(nn.functional.softmax(pred, dim=-1), dim=-1)]\n",
    "    pred_names = []\n",
    "    for item in preds:\n",
    "        pred_names.append(dct[item])\n",
    "\n",
    "    return preds, pred_names"
   ]
  },
  {
   "cell_type": "code",
   "execution_count": 166,
   "id": "23f3f23a",
   "metadata": {
    "executionInfo": {
     "elapsed": 2,
     "status": "ok",
     "timestamp": 1683203894065,
     "user": {
      "displayName": "Семенников Макар",
      "userId": "05697875105098319337"
     },
     "user_tz": -180
    },
    "id": "23f3f23a"
   },
   "outputs": [],
   "source": [
    "def val_epoch(model, dataloader, loss_fn):\n",
    "    model.eval()\n",
    "    computet_data = 0\n",
    "    val_loss = 0\n",
    "    correct = 0\n",
    "    loss_dct = {}\n",
    "    for i in range(len(labels_dct.keys())):\n",
    "        loss_dct[i] = [0, 0]\n",
    "    \n",
    "    for X, y in dataloader:\n",
    "        X = X.to(device)\n",
    "        y = y.to(device)\n",
    "        with torch.no_grad():\n",
    "            outputs = model(X)\n",
    "        loss = loss_fn(outputs, y)        \n",
    "        preds = torch.argmax(outputs, 1)\n",
    "        \n",
    "        val_loss += loss.item() * X.size(0)\n",
    "        correct += torch.sum(preds==y.data)\n",
    "        computet_data += X.size(0)\n",
    "        \n",
    "        predicts = [int(x) for x in torch.argmax(nn.functional.softmax(outputs, dim=-1), dim=-1)]\n",
    "        y = y.to(torch.device(\"cpu\")).numpy()\n",
    "        for i in range(len(y)):\n",
    "            loss_dct[y[i]][0] += 1\n",
    "            if y[i] == predicts[i]:\n",
    "                loss_dct[y[i]][1] += 1\n",
    "                \n",
    "\n",
    "    val_loss = val_loss / computet_data\n",
    "    val_acc = correct.double() / computet_data\n",
    "    return val_loss, val_acc, loss_dct"
   ]
  },
  {
   "cell_type": "code",
   "execution_count": 167,
   "id": "926cb981",
   "metadata": {
    "executionInfo": {
     "elapsed": 1,
     "status": "ok",
     "timestamp": 1683203894389,
     "user": {
      "displayName": "Семенников Макар",
      "userId": "05697875105098319337"
     },
     "user_tz": -180
    },
    "id": "926cb981"
   },
   "outputs": [],
   "source": [
    "def train_nn(model, dataloaders, loss_fn, optimizer, epochs, sheduller=None):\n",
    "    history = []\n",
    "    prosess = \"train loss: {}, val_loss: {}, train_acc: {}, val_acc: {}\"\n",
    "    for epoch in range(epochs):\n",
    "        train_loss, train_acc = train_epoch(model, dataloaders['train'], loss_fn, optimizer)\n",
    "        val_loss, val_acc, loss_dct = val_epoch(model, dataloaders['val'], loss_fn)\n",
    "        \n",
    "        history.append((train_loss, val_loss, train_acc, val_acc))\n",
    "        \n",
    "        print(prosess.format(train_loss, val_loss, train_acc, val_acc))\n",
    "        \n",
    "        for key, val in loss_dct.items():\n",
    "            print(labels_dct[key], ':', val[0], ';', val[1], ';', '%.2f' % (val[1]/val[0]))\n",
    "        if sheduller:\n",
    "            sheduller.step()\n",
    "    return history"
   ]
  },
  {
   "cell_type": "code",
   "execution_count": 168,
   "id": "4caf4729",
   "metadata": {
    "executionInfo": {
     "elapsed": 2,
     "status": "ok",
     "timestamp": 1683203895372,
     "user": {
      "displayName": "Семенников Макар",
      "userId": "05697875105098319337"
     },
     "user_tz": -180
    },
    "id": "4caf4729"
   },
   "outputs": [],
   "source": [
    "def save_model(model, optimizer, file_name):\n",
    "    checkpoint = {'model': model,\n",
    "              'state_dict': model.state_dict(),\n",
    "              'optimizer' : optimizer.state_dict()}\n",
    "    torch.save(checkpoint, file_name + '.pth')"
   ]
  },
  {
   "cell_type": "code",
   "execution_count": 169,
   "id": "O4_X1A12GerF",
   "metadata": {
    "executionInfo": {
     "elapsed": 3,
     "status": "ok",
     "timestamp": 1683203896351,
     "user": {
      "displayName": "Семенников Макар",
      "userId": "05697875105098319337"
     },
     "user_tz": -180
    },
    "id": "O4_X1A12GerF"
   },
   "outputs": [],
   "source": [
    "model = MyNN_mu(3, 42)\n",
    "model.to(device)\n",
    "loss_fn = nn.CrossEntropyLoss()\n",
    "optimizer = torch.optim.AdamW(params=model.parameters(), lr=0.0001, weight_decay=1e-5)\n",
    "sheduller = torch.optim.lr_scheduler.StepLR(optimizer, step_size=4, gamma = 0.5)"
   ]
  },
  {
   "cell_type": "code",
   "execution_count": 170,
   "id": "ujPWlZQNGq14",
   "metadata": {
    "colab": {
     "background_save": true
    },
    "id": "ujPWlZQNGq14"
   },
   "outputs": [
    {
     "data": {
      "application/vnd.jupyter.widget-view+json": {
       "model_id": "18eb5191cee34461bce5c4af8ce9a28a",
       "version_major": 2,
       "version_minor": 0
      },
      "text/plain": [
       "  0%|          | 0/112 [00:00<?, ?it/s]"
      ]
     },
     "metadata": {},
     "output_type": "display_data"
    },
    {
     "name": "stdout",
     "output_type": "stream",
     "text": [
      "train loss: 0.6075960300433829, val_loss: 0.5674532562044997, train_acc: 0.6679709334823924, val_acc: 0.7035175879396985\n",
      "charles_montgomery_burns : 291 ; 145 ; 0.50\n",
      "enother : 306 ; 275 ; 0.90\n"
     ]
    },
    {
     "data": {
      "application/vnd.jupyter.widget-view+json": {
       "model_id": "ba36fc226e624d5caeab47fefec831e8",
       "version_major": 2,
       "version_minor": 0
      },
      "text/plain": [
       "  0%|          | 0/112 [00:00<?, ?it/s]"
      ]
     },
     "metadata": {},
     "output_type": "display_data"
    },
    {
     "name": "stdout",
     "output_type": "stream",
     "text": [
      "train loss: 0.5212996392159438, val_loss: 0.48178577632760283, train_acc: 0.7451089994410285, val_acc: 0.7721943048576214\n",
      "charles_montgomery_burns : 291 ; 217 ; 0.75\n",
      "enother : 306 ; 244 ; 0.80\n"
     ]
    },
    {
     "data": {
      "application/vnd.jupyter.widget-view+json": {
       "model_id": "71fce99de8c84ba4bf7a14cdb8bfe702",
       "version_major": 2,
       "version_minor": 0
      },
      "text/plain": [
       "  0%|          | 0/112 [00:00<?, ?it/s]"
      ]
     },
     "metadata": {},
     "output_type": "display_data"
    },
    {
     "name": "stdout",
     "output_type": "stream",
     "text": [
      "train loss: 0.4463395246951656, val_loss: 0.4435552260534248, train_acc: 0.7909446618222471, val_acc: 0.8090452261306533\n",
      "charles_montgomery_burns : 291 ; 241 ; 0.83\n",
      "enother : 306 ; 242 ; 0.79\n"
     ]
    },
    {
     "data": {
      "application/vnd.jupyter.widget-view+json": {
       "model_id": "d1c6c48b7c3c4c429fd685f7a5e9d911",
       "version_major": 2,
       "version_minor": 0
      },
      "text/plain": [
       "  0%|          | 0/112 [00:00<?, ?it/s]"
      ]
     },
     "metadata": {},
     "output_type": "display_data"
    },
    {
     "name": "stdout",
     "output_type": "stream",
     "text": [
      "train loss: 0.400922133610727, val_loss: 0.40428982767427785, train_acc: 0.820011179429849, val_acc: 0.8090452261306533\n",
      "charles_montgomery_burns : 291 ; 242 ; 0.83\n",
      "enother : 306 ; 241 ; 0.79\n"
     ]
    },
    {
     "data": {
      "application/vnd.jupyter.widget-view+json": {
       "model_id": "c8afa649bd924b769a83d811c0eb1138",
       "version_major": 2,
       "version_minor": 0
      },
      "text/plain": [
       "  0%|          | 0/112 [00:00<?, ?it/s]"
      ]
     },
     "metadata": {},
     "output_type": "display_data"
    },
    {
     "name": "stdout",
     "output_type": "stream",
     "text": [
      "train loss: 0.320190804273873, val_loss: 0.38094255313202363, train_acc: 0.8652878703186138, val_acc: 0.8224455611390284\n",
      "charles_montgomery_burns : 291 ; 228 ; 0.78\n",
      "enother : 306 ; 263 ; 0.86\n"
     ]
    },
    {
     "data": {
      "application/vnd.jupyter.widget-view+json": {
       "model_id": "bd5f8cf035084137b50ec068ebddc2df",
       "version_major": 2,
       "version_minor": 0
      },
      "text/plain": [
       "  0%|          | 0/112 [00:00<?, ?it/s]"
      ]
     },
     "metadata": {},
     "output_type": "display_data"
    },
    {
     "name": "stdout",
     "output_type": "stream",
     "text": [
      "train loss: 0.28097863571146736, val_loss: 0.3826749452594137, train_acc: 0.8831749580771381, val_acc: 0.8190954773869347\n",
      "charles_montgomery_burns : 291 ; 235 ; 0.81\n",
      "enother : 306 ; 254 ; 0.83\n"
     ]
    },
    {
     "data": {
      "application/vnd.jupyter.widget-view+json": {
       "model_id": "21f27cc6697d45cc90c871b959b4e05f",
       "version_major": 2,
       "version_minor": 0
      },
      "text/plain": [
       "  0%|          | 0/112 [00:00<?, ?it/s]"
      ]
     },
     "metadata": {},
     "output_type": "display_data"
    },
    {
     "name": "stdout",
     "output_type": "stream",
     "text": [
      "train loss: 0.24645639589507198, val_loss: 0.38050962215791795, train_acc: 0.9111235326998323, val_acc: 0.8291457286432161\n",
      "charles_montgomery_burns : 291 ; 222 ; 0.76\n",
      "enother : 306 ; 273 ; 0.89\n"
     ]
    },
    {
     "data": {
      "application/vnd.jupyter.widget-view+json": {
       "model_id": "6a4ab1a6f39d4dcf99e6b0ce253ae8c2",
       "version_major": 2,
       "version_minor": 0
      },
      "text/plain": [
       "  0%|          | 0/112 [00:00<?, ?it/s]"
      ]
     },
     "metadata": {},
     "output_type": "display_data"
    },
    {
     "name": "stdout",
     "output_type": "stream",
     "text": [
      "train loss: 0.21450895592028899, val_loss: 0.3606151919468763, train_acc: 0.9228619340413639, val_acc: 0.8324958123953099\n",
      "charles_montgomery_burns : 291 ; 241 ; 0.83\n",
      "enother : 306 ; 256 ; 0.84\n"
     ]
    },
    {
     "data": {
      "application/vnd.jupyter.widget-view+json": {
       "model_id": "351c7a79b66a46fd83d3cf6755a07c19",
       "version_major": 2,
       "version_minor": 0
      },
      "text/plain": [
       "  0%|          | 0/112 [00:00<?, ?it/s]"
      ]
     },
     "metadata": {},
     "output_type": "display_data"
    },
    {
     "name": "stdout",
     "output_type": "stream",
     "text": [
      "train loss: 0.17481450848968552, val_loss: 0.36171021718076324, train_acc: 0.9441028507546115, val_acc: 0.8425460636515913\n",
      "charles_montgomery_burns : 291 ; 233 ; 0.80\n",
      "enother : 306 ; 270 ; 0.88\n"
     ]
    },
    {
     "data": {
      "application/vnd.jupyter.widget-view+json": {
       "model_id": "7fdc1a269a2048478072c17350ba7088",
       "version_major": 2,
       "version_minor": 0
      },
      "text/plain": [
       "  0%|          | 0/112 [00:00<?, ?it/s]"
      ]
     },
     "metadata": {},
     "output_type": "display_data"
    },
    {
     "name": "stdout",
     "output_type": "stream",
     "text": [
      "train loss: 0.1453817842924908, val_loss: 0.36971360704607303, train_acc: 0.9625489100055897, val_acc: 0.8375209380234506\n",
      "charles_montgomery_burns : 291 ; 247 ; 0.85\n",
      "enother : 306 ; 253 ; 0.83\n"
     ]
    }
   ],
   "source": [
    "h = train_nn(model, bg_dataloaders, loss_fn, optimizer, 10, sheduller)"
   ]
  },
  {
   "cell_type": "markdown",
   "id": "fc1aee32",
   "metadata": {},
   "source": [
    "## Загрузка и использование модели"
   ]
  },
  {
   "cell_type": "code",
   "execution_count": null,
   "id": "dd9c6dda",
   "metadata": {},
   "outputs": [],
   "source": [
    "def load_checkpoint(filepath):\n",
    "    checkpoint = torch.load(filepath)\n",
    "    model = checkpoint['model']\n",
    "    model.load_state_dict(checkpoint['state_dict'])\n",
    "# Эти строчки нужны если мы не собираемся дообучать модель\n",
    "#     for parameter in model.parameters():\n",
    "#         parameter.requires_grad = False\n",
    "\n",
    "    model.eval()\n",
    "    return model"
   ]
  },
  {
   "cell_type": "markdown",
   "id": "92768202",
   "metadata": {},
   "source": [
    "#### Поскольку соревнование проходит по метрике f-1 необходимо составить свою реализацию использования этой метрики"
   ]
  },
  {
   "cell_type": "code",
   "execution_count": null,
   "id": "becbc8c0",
   "metadata": {},
   "outputs": [],
   "source": [
    "def val_f1_score(model, val_dataloader):\n",
    "    model.to(device)\n",
    "    model.eval()\n",
    "    preds = []\n",
    "    labels = []\n",
    "    t = 0\n",
    "    for X, y in val_dataloader:\n",
    "        X = X.to(device)\n",
    "        with torch.no_grad():\n",
    "            pred = model(X)\n",
    "        sft = nn.functional.softmax(pred, dim=-1)\n",
    "        preds += [int(x) for x in torch.argmax(nn.functional.softmax(pred, dim=-1), dim=-1)]\n",
    "        labels += y\n",
    "    print(f1_score(labels, preds, average='macro'))\n",
    "    print(len(labels), len(preds))\n",
    "    return preds, labels"
   ]
  },
  {
   "cell_type": "code",
   "execution_count": null,
   "id": "f9c2ce63",
   "metadata": {},
   "outputs": [],
   "source": [
    "# Функция, необходимая для наглядной интерпретации выходов модели\n",
    "def predict_nn(model, test_dataloader, dct):\n",
    "    model.to(device)\n",
    "    model.eval()\n",
    "    preds = []\n",
    "    for X, y in test_dataloader:\n",
    "        X = X.to(device)\n",
    "        with torch.no_grad():\n",
    "            pred = model(X)\n",
    "        sft = nn.functional.softmax(pred, dim=-1)\n",
    "        preds += [int(x) for x in torch.argmax(nn.functional.softmax(pred, dim=-1), dim=-1)]\n",
    "    pred_names = []\n",
    "    for item in preds:\n",
    "        pred_names.append(dct[item])\n",
    "\n",
    "    return preds, pred_names"
   ]
  },
  {
   "cell_type": "markdown",
   "id": "ef91a809",
   "metadata": {},
   "source": [
    "### Загрузка тестовых данных их обработка и формирование файла с ответами"
   ]
  },
  {
   "cell_type": "code",
   "execution_count": null,
   "id": "f5114540",
   "metadata": {},
   "outputs": [],
   "source": [
    "TEST_DIR = pathlib.Path('journey-springfield/testset/testset')\n",
    "\n",
    "test_files = sorted(list(TEST_DIR.rglob('*.jpg')))\n",
    "test_filenames = [path.name for path in test_files]\n",
    "\n",
    "test_dataset = CustomDataset(test_files, val_transforms)\n",
    "test_dataloader = DataLoader(dataset=test_dataset, batch_size=BATCH_SIZE, shuffle=False)"
   ]
  },
  {
   "cell_type": "code",
   "execution_count": null,
   "id": "ebf94356",
   "metadata": {},
   "outputs": [],
   "source": [
    "predicts, predict_names = predict_nn(model_1, test_dataloader, lables_dct)\n",
    "\n",
    "my_submit = pd.DataFrame({'Id': test_filenames, 'Expected': predict_names})\n",
    "my_submit.head()"
   ]
  },
  {
   "cell_type": "code",
   "execution_count": null,
   "id": "8deeb14d",
   "metadata": {},
   "outputs": [],
   "source": [
    "# Запись в файл\n",
    "my_submit.to_csv('ansvers.csv', index=False)"
   ]
  },
  {
   "cell_type": "markdown",
   "id": "8ca6098b",
   "metadata": {},
   "source": [
    "### Submit on Kaggle"
   ]
  },
  {
   "attachments": {
    "image.png": {
     "image/png": "[encoded data removed]"
    }
   },
   "cell_type": "markdown",
   "id": "24c4c226",
   "metadata": {},
   "source": [
    "![image.png](attachment:image.png)"
   ]
  },
  {
   "cell_type": "markdown",
   "id": "ada72c03",
   "metadata": {},
   "source": [
    "## Создание датасета для бинарной классификации\n",
    "#### Была идея обучить ансамбль моделей бинарной классификации, каждая отличала свой класс от всех остальных\n",
    "#### В итоге идея была признана слишком трудоемкой, но хотелось сохранить код для других проектов."
   ]
  },
  {
   "cell_type": "code",
   "execution_count": 29,
   "id": "3c96292d",
   "metadata": {},
   "outputs": [],
   "source": [
    "class CustomDatasetBin(Dataset):\n",
    "    \n",
    "    def __init__(self, X, y, transform):\n",
    "        ''' Принимает список путей до файлов X и список строковых меток классов(предполагается 2) в y.\n",
    "        '''\n",
    "        self.paths = X\n",
    "        self.labels = y\n",
    "\n",
    "        \n",
    "        if len(self.labels) != len(self.paths):\n",
    "            print('ERROR: len(self.labels) != len(self.paths)')\n",
    "        \n",
    "        self.classes = np.unique(y).tolist()\n",
    "        self.class_to_idx = {cls_name: i for i, cls_name in enumerate(self.classes)}\n",
    "       \n",
    "\n",
    "        self.transform = transform\n",
    "        \n",
    "    def __len__(self):\n",
    "        return len(self.paths)\n",
    "    \n",
    "    def class_to_i(self):\n",
    "        return self.class_to_idx\n",
    "    def en(self):\n",
    "        return self.class_to_idx\n",
    "    \n",
    "    def load_item(self, index): \n",
    "        ''' открывает картинку по заданному пути\n",
    "        '''\n",
    "        image_path = self.paths[index]\n",
    "        return Image.open(image_path)\n",
    "    \n",
    "    def __getitem__(self, index):\n",
    "        '''возвращает картинку и метку класса к ней'''\n",
    "        \n",
    "        img = self.load_item(index)\n",
    "        \n",
    "        class_name = self.labels[index]\n",
    "        class_idx = self.class_to_idx[class_name]\n",
    "\n",
    "        return self.transform(img), class_idx"
   ]
  },
  {
   "cell_type": "code",
   "execution_count": null,
   "id": "b7c73e27",
   "metadata": {},
   "outputs": [],
   "source": [
    "def dct_for_binary(dct_orig):\n",
    "    '''Построение словаря, в котором по каждому ключу хранится список[[],[]] в первом поле -- экземпляры \n",
    "        соответствующие классу\n",
    "        ключа, во втором поле все остальные файлы выборки за исключением содержащихся в первом поле\n",
    "        \n",
    "        принимает словарь вида {label: [file1, file2, file3, ...]}\n",
    "    '''\n",
    "    dct_bin = {}\n",
    "    for key in dct_orig.keys():\n",
    "        dct_bin[key] = [[], []]\n",
    "    for key in dct_orig.keys():\n",
    "        for item in dct_orig[key]:\n",
    "            dct_bin[key][0].append(item)\n",
    "    \n",
    "    for key_bin in dct_bin.keys():\n",
    "        for key_orig in dct_orig.keys():\n",
    "            if key_bin != key_orig:\n",
    "                for item in dct_orig[key_orig]:\n",
    "                    dct_bin[key_bin][1].append(item)\n",
    "    return dct_bin"
   ]
  },
  {
   "cell_type": "code",
   "execution_count": 30,
   "id": "1a6bb457",
   "metadata": {},
   "outputs": [
    {
     "name": "stdout",
     "output_type": "stream",
     "text": [
      "abraham_grampa_simpson 913 20020\n",
      "agnes_skinner 42 20891\n",
      "apu_nahasapeemapetilon 623 20310\n",
      "barney_gumble 106 20827\n",
      "bart_simpson 1342 19591\n",
      "carl_carlson 98 20835\n",
      "charles_montgomery_burns 1193 19740\n",
      "chief_wiggum 986 19947\n",
      "cletus_spuckler 47 20886\n",
      "comic_book_guy 469 20464\n",
      "disco_stu 8 20925\n",
      "edna_krabappel 457 20476\n",
      "fat_tony 27 20906\n",
      "gil 27 20906\n",
      "groundskeeper_willie 121 20812\n",
      "homer_simpson 2246 18687\n",
      "kent_brockman 498 20435\n",
      "krusty_the_clown 1206 19727\n",
      "lenny_leonard 310 20623\n",
      "lionel_hutz 3 20930\n",
      "lisa_simpson 1354 19579\n",
      "maggie_simpson 128 20805\n",
      "marge_simpson 1291 19642\n",
      "martin_prince 71 20862\n",
      "mayor_quimby 246 20687\n",
      "milhouse_van_houten 1079 19854\n",
      "miss_hoover 17 20916\n",
      "moe_szyslak 1452 19481\n",
      "ned_flanders 1454 19479\n",
      "nelson_muntz 358 20575\n",
      "otto_mann 32 20901\n",
      "patty_bouvier 72 20861\n",
      "principal_skinner 1194 19739\n",
      "professor_john_frink 65 20868\n",
      "rainier_wolfcastle 45 20888\n",
      "ralph_wiggum 89 20844\n",
      "selma_bouvier 103 20830\n",
      "sideshow_bob 877 20056\n",
      "sideshow_mel 40 20893\n",
      "snake_jailbird 55 20878\n",
      "troy_mcclure 8 20925\n",
      "waylon_smithers 181 20752\n"
     ]
    }
   ],
   "source": [
    "dct_for_bin_class = dct_for_binary(dct)\n",
    "for x, y in dct_for_bin_class.items():\n",
    "    \n",
    "    print(x, len(y[0]), len(y[1]))"
   ]
  },
  {
   "cell_type": "code",
   "execution_count": 31,
   "id": "84d26b23",
   "metadata": {},
   "outputs": [
    {
     "name": "stdout",
     "output_type": "stream",
     "text": [
      "abraham_grampa_simpson 913 913\n",
      "agnes_skinner 42 84\n",
      "apu_nahasapeemapetilon 623 623\n",
      "barney_gumble 106 106\n",
      "bart_simpson 1342 1342\n",
      "carl_carlson 98 98\n",
      "charles_montgomery_burns 1193 1193\n",
      "chief_wiggum 986 986\n",
      "cletus_spuckler 47 94\n",
      "comic_book_guy 469 469\n",
      "disco_stu 8 16\n",
      "edna_krabappel 457 457\n",
      "fat_tony 27 54\n",
      "gil 27 54\n",
      "groundskeeper_willie 121 121\n",
      "homer_simpson 2246 2246\n",
      "kent_brockman 498 498\n",
      "krusty_the_clown 1206 1206\n",
      "lenny_leonard 310 310\n",
      "lionel_hutz 3 6\n",
      "lisa_simpson 1354 1354\n",
      "maggie_simpson 128 128\n",
      "marge_simpson 1291 1291\n",
      "martin_prince 71 71\n",
      "mayor_quimby 246 246\n",
      "milhouse_van_houten 1079 1079\n",
      "miss_hoover 17 34\n",
      "moe_szyslak 1452 1452\n",
      "ned_flanders 1454 1454\n",
      "nelson_muntz 358 358\n",
      "otto_mann 32 64\n",
      "patty_bouvier 72 72\n",
      "principal_skinner 1194 1194\n",
      "professor_john_frink 65 65\n",
      "rainier_wolfcastle 45 90\n",
      "ralph_wiggum 89 89\n",
      "selma_bouvier 103 103\n",
      "sideshow_bob 877 877\n",
      "sideshow_mel 40 80\n",
      "snake_jailbird 55 110\n",
      "troy_mcclure 8 16\n",
      "waylon_smithers 181 181\n"
     ]
    }
   ],
   "source": [
    "# Если делаем срез во втором поле массива по каждому ключу, так чтобы количество несоответствующих классу элементов был \n",
    "# равен (Или в 2 раза превосходил, если элементов < 60) количеству элементов соответствующих классу\n",
    "for key in dct_for_bin_class.keys():\n",
    "    random.shuffle(dct_for_bin_class[key][1])  # Перемешиваем, чтобы классы не шли друг за другом\n",
    "    l = len(dct_for_bin_class[key][0])\n",
    "    if l < 60:\n",
    "        l *= 2\n",
    "    dct_for_bin_class[key][1] = dct_for_bin_class[key][1][:l]\n",
    "\n",
    "for x, y in dct_for_bin_class.items():\n",
    "    print(x, len(y[0]), len(y[1]))"
   ]
  },
  {
   "cell_type": "code",
   "execution_count": 32,
   "id": "0ca5b230",
   "metadata": {},
   "outputs": [],
   "source": [
    "def fel(lst):\n",
    "    '''Функция (сокращение от features and labels) соединяет 2 списка так, что вначале идут принадлежащие классу файлы а\n",
    "    затем -- не принадлежащие ему. Таким же образом составляет массив меток\n",
    "    '''\n",
    "    X = lst[0]+lst[1]\n",
    "    y = [lst[0][0].parent.name]*len(lst[0]) + ['enother']*len(lst[1])\n",
    "\n",
    "    return X, y"
   ]
  },
  {
   "cell_type": "code",
   "execution_count": 120,
   "id": "b15e7f7d",
   "metadata": {
    "scrolled": true
   },
   "outputs": [
    {
     "name": "stdout",
     "output_type": "stream",
     "text": [
      "2386 2386\n"
     ]
    }
   ],
   "source": [
    "x1, y1 = fel(dct_for_bin_class['barney_gumble'])\n",
    "print(len(x1), len(y1))"
   ]
  },
  {
   "cell_type": "code",
   "execution_count": 122,
   "id": "ab0ffe72",
   "metadata": {},
   "outputs": [],
   "source": [
    "bg_train_X, bg_val_X, bg_train_y, bg_val_y = train_test_split(x1, y1, train_size=0.75, test_size=0.25)\n",
    "\n",
    "bd_train_dataset = CustomDatasetBin(bg_train_X, bg_train_y, train_transforms)\n",
    "bg_val_dataset = CustomDatasetBin(bg_val_X, bg_val_y, train_transforms)\n",
    "\n",
    "bd_train_dataloader = DataLoader(dataset=bd_train_dataset, batch_size=BATCH_SIZE, shuffle=True)\n",
    "bg_val_dataloader = DataLoader(dataset=bg_val_dataset, batch_size=BATCH_SIZE, shuffle=True)\n",
    "\n",
    "bg_dataloaders = {'train': bd_train_dataloader,\n",
    "                 'val': bg_val_dataloader}"
   ]
  },
  {
   "cell_type": "code",
   "execution_count": 123,
   "id": "9d64ebfd",
   "metadata": {
    "scrolled": false
   },
   "outputs": [
    {
     "data": {
      "text/plain": [
       "{'charles_montgomery_burns': 0, 'enother': 1}"
      ]
     },
     "execution_count": 123,
     "metadata": {},
     "output_type": "execute_result"
    }
   ],
   "source": [
    "bd_train_dataset.class_to_i()"
   ]
  },
  {
   "cell_type": "code",
   "execution_count": 162,
   "id": "e3d575b5",
   "metadata": {},
   "outputs": [],
   "source": [
    "## Бинарный вариант, была идея создать ансамбль моделей\n",
    "class MyNN_mu_binary(nn.Module):\n",
    "    def __init__(self, input_shape, out_shape):\n",
    "        super().__init__()\n",
    "        self.conv1 = nn.Sequential(\n",
    "            nn.Conv2d(input_shape, 16,\n",
    "                     kernel_size=(11, 11),\n",
    "                     stride=(4, 4),\n",
    "                     padding=(2, 2)),\n",
    "            nn.ELU(inplace=True),\n",
    "            nn.MaxPool2d(kernel_size=3, stride=2, padding=0, dilation=1, ceil_mode=False),\n",
    "            \n",
    "            nn.Conv2d(16, 32, kernel_size=(11, 11), stride=(2, 2), padding=(2, 2)),\n",
    "            nn.ELU(inplace=True),\n",
    "            \n",
    "            nn.Conv2d(32, 64, kernel_size=(11, 11), stride=(2, 2), padding=(2, 2)),\n",
    "            nn.ELU(inplace=True),\n",
    "            nn.MaxPool2d(kernel_size=3, stride=2, padding=0, dilation=1, ceil_mode=False)\n",
    "        )\n",
    "        \n",
    "        self.classifier = nn.Sequential(\n",
    "            nn.Flatten(),\n",
    "#             nn.Dropout(p=0.2),\n",
    "            nn.Linear(in_features=256, out_features=50, bias=True),\n",
    "            nn.Dropout(p=0.2),\n",
    "            nn.ELU(inplace=True),\n",
    "#             nn.Linear(in_features=200, out_features=100, bias=True),\n",
    "#             nn.Dropout(p=0.2),\n",
    "#             nn.ELU(inplace=True),\n",
    "            nn.Linear(in_features=50, out_features=2, bias=True)\n",
    "        )\n",
    "\n",
    "        \n",
    "    def forward(self, x):\n",
    "        x = self.conv1(x)\n",
    "        x = self.classifier(x)\n",
    "\n",
    "        return x"
   ]
  }
 ],
 "metadata": {
  "accelerator": "GPU",
  "colab": {
   "provenance": []
  },
  "gpuClass": "standard",
  "kernelspec": {
   "display_name": "Python 3 (ipykernel)",
   "language": "python",
   "name": "python3"
  },
  "language_info": {
   "codemirror_mode": {
    "name": "ipython",
    "version": 3
   },
   "file_extension": ".py",
   "mimetype": "text/x-python",
   "name": "python",
   "nbconvert_exporter": "python",
   "pygments_lexer": "ipython3",
   "version": "3.10.11"
  }
 },
 "nbformat": 4,
 "nbformat_minor": 5
}
